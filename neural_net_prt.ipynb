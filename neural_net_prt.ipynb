{
 "cells": [
  {
   "cell_type": "code",
   "execution_count": 24,
   "metadata": {},
   "outputs": [],
   "source": [
    "%matplotlib inline\n",
    "import matplotlib.pyplot as plt\n",
    "import numpy as np\n",
    "import torch\n",
    "from torch.autograd import Variable\n",
    "import sys\n",
    "\n",
    "def sign(num):\n",
    "    check = Variable(torch.Tensor([0.0]).double().expand(num.size()))\n",
    "    return torch.ge(num,check).double()\n",
    "\n",
    "def accuracy(y_real, y_predicted):\n",
    "    n = y_real.size()[0]\n",
    "    return (y_predicted.data==y_real.data).sum()/n\n",
    "\n",
    "def predict(x,w1,w2):\n",
    "    return torch.ge(torch.sigmoid(x.mm(w1).mm(w2)),0.5).double()"
   ]
  },
  {
   "cell_type": "code",
   "execution_count": 16,
   "metadata": {},
   "outputs": [
    {
     "data": {
      "text/plain": [
       "(0.0, 1.0)"
      ]
     },
     "execution_count": 16,
     "metadata": {},
     "output_type": "execute_result"
    }
   ],
   "source": [
    "images = np.load('data/images.npy')\n",
    "labels = np.load('data/labels.npy')\n",
    "flattened_image = images.reshape([len(images),-1])\n",
    "flattened_image = (flattened_image - flattened_image.min())/(flattened_image.max() - flattened_image.min())\n",
    "flattened_image = np.insert(flattened_image, 0, 1, axis=1)\n",
    "\n",
    "apple_labels = labels\n",
    "learning_rate = 0.01\n",
    "\n",
    "apple_labels[labels == 0] = 10 \n",
    "apple_labels[labels < 10] = 0\n",
    "apple_labels[labels == 10] = 1\n",
    "# np.unique(apple_labels)\n",
    "np.min(flattened_image), np.max(flattened_image)\n"
   ]
  },
  {
   "cell_type": "code",
   "execution_count": 17,
   "metadata": {
    "collapsed": true
   },
   "outputs": [],
   "source": [
    "n,m = flattened_image.shape\n",
    "hidden_layers = 100\n",
    "output_nodes = 1\n",
    "\n",
    "X = Variable(torch.from_numpy(flattened_image)).double()\n",
    "y = Variable(torch.from_numpy(apple_labels).view(-1,1)).double()"
   ]
  },
  {
   "cell_type": "code",
   "execution_count": 35,
   "metadata": {},
   "outputs": [],
   "source": [
    "X_test = X[-5000:]\n",
    "y_test = y[-5000:]\n",
    "\n",
    "# shuffle first 45,000 so that after every epoch we don't overfit\n",
    "# random = torch.randperm(45000)\n",
    "# X_shuffled = X[random]\n",
    "# y_shuffled = y[random]\n",
    "\n",
    "X_shuffled = X[:45000]\n",
    "y_shuffled = y[:45000]\n",
    "\n",
    "\n",
    "X_train = X_shuffled[:40000]\n",
    "X_dev = X_shuffled[-5000:]\n",
    "\n",
    "y_train = y_shuffled[:40000]\n",
    "y_dev = y_shuffled[-5000:]\n",
    "\n",
    "n = 5000"
   ]
  },
  {
   "cell_type": "code",
   "execution_count": 41,
   "metadata": {},
   "outputs": [
    {
     "name": "stdout",
     "output_type": "stream",
     "text": [
      "Train | Dev\n",
      "0.9478\n"
     ]
    }
   ],
   "source": [
    "loss_history = []\n",
    "train_accuracy = []\n",
    "dev_accuracy = []\n",
    "\n",
    "test_set_accuracy = []\n",
    "epoch_points_train = []\n",
    "epoch_points_dev = []\n",
    "print(\"Train | Dev\")\n",
    "for super in range(1):\n",
    "    w1 = Variable((0.2*torch.randn(m,hidden_layers)).double(),requires_grad=True) # m x P\n",
    "    w2 = Variable((0.2*torch.randn(hidden_layers,output_nodes)).double(),requires_grad=True) # P x output\n",
    "    \n",
    "    m1_ = Variable((torch.zeros((m, hidden_layers)).double()))\n",
    "    v1 = Variable((torch.zeros((m, hidden_layers)).double()))\n",
    "    \n",
    "    m2_ = Variable((torch.zeros((hidden_layers, output_nodes)).double()))\n",
    "    v2 = Variable((torch.zeros((hidden_layers, output_nodes)).double()))\n",
    "    t = 0\n",
    "    for iterations in range(1):\n",
    "        for i in range(n):\n",
    "            \n",
    "            mid_layer = torch.sigmoid(X_train[i].view(1,-1).mm(w1))\n",
    "            out_layer = torch.sigmoid(mid_layer.mm(w2))\n",
    "            \n",
    "            eps1, eps2 = 1e-2,1e2\n",
    "            loss = (y_train[i] * (out_layer.clamp(eps1, eps2).log())) + \\\n",
    "                ((1-y_train[i]) * ((1-out_layer).clamp(eps1, eps2).log()))  \n",
    "            loss.backward()\n",
    " \n",
    "            lr1 = learning_rate * w1.grad.data\n",
    "            lr2 = learning_rate * w2.grad.data\n",
    "            \n",
    "            w1.data = w1.data + lr1\n",
    "            w2.data = w2.data + lr2\n",
    "            \n",
    "            w2.grad.data.zero_()\n",
    "            w1.grad.data.zero_()\n",
    "            \n",
    "\n",
    "            if i%5000 == 0:\n",
    "                # rand_train = torch.from_numpy(np.random.choice(40000, 1000, replace=False))\n",
    "                # rand_dev = torch.from_numpy(np.random.choice(5000, 1000, replace=False))\n",
    "                train_accuracy.append(accuracy(y_train[rand_train],predict(X_train[rand_train], w1, w2)))\n",
    "                # dev_accuracy.append(accuracy(y_dev[rand_dev], X_dev[rand_dev].mm(w.t())))\n",
    "                # dev_accuracy.append(accuracy(y_dev, predict(X_dev, w1, w2)))\n",
    "       \n",
    "    a=accuracy(y_train,predict(X_train, w1, w2))\n",
    "    print(a)\n",
    "    "
   ]
  },
  {
   "cell_type": "code",
   "execution_count": 16,
   "metadata": {},
   "outputs": [
    {
     "data": {
      "text/plain": [
       "(Variable containing:\n",
       " -364.8112\n",
       " [torch.DoubleTensor of size 1], -364.8112008362277)"
      ]
     },
     "execution_count": 16,
     "metadata": {},
     "output_type": "execute_result"
    }
   ],
   "source": [
    "test = Variable((torch.randn(m,hidden_layers)).double()) # m x P\n",
    "test.sum(), test.data.sum()"
   ]
  },
  {
   "cell_type": "code",
   "execution_count": null,
   "metadata": {
    "collapsed": true
   },
   "outputs": [],
   "source": [
    "loss = (Y[i] * (sigmoid(X. W).clamp(eps1, eps2).log())) + ((1-Y[i]) * ((1-sigmoid(X. W)).clamp(eps1, eps2).log()))  \n"
   ]
  },
  {
   "cell_type": "code",
   "execution_count": 197,
   "metadata": {},
   "outputs": [
    {
     "ename": "RuntimeError",
     "evalue": "matrices expected, got 1D, 2D tensors at /pytorch/torch/lib/TH/generic/THTensorMath.c:1288",
     "output_type": "error",
     "traceback": [
      "\u001b[0;31m---------------------------------------------------------------------------\u001b[0m",
      "\u001b[0;31mRuntimeError\u001b[0m                              Traceback (most recent call last)",
      "\u001b[0;32m<ipython-input-197-febf647598e2>\u001b[0m in \u001b[0;36m<module>\u001b[0;34m()\u001b[0m\n\u001b[0;32m----> 1\u001b[0;31m \u001b[0mforward\u001b[0m\u001b[0;34m(\u001b[0m\u001b[0mX_test\u001b[0m\u001b[0;34m[\u001b[0m\u001b[0;36m0\u001b[0m\u001b[0;34m]\u001b[0m\u001b[0;34m,\u001b[0m\u001b[0mw1\u001b[0m\u001b[0;34m,\u001b[0m\u001b[0mw2\u001b[0m\u001b[0;34m)\u001b[0m\u001b[0;34m\u001b[0m\u001b[0m\n\u001b[0m",
      "\u001b[0;32m<ipython-input-187-41f593c75159>\u001b[0m in \u001b[0;36mforward\u001b[0;34m(x, w1, w2)\u001b[0m\n\u001b[1;32m     15\u001b[0m \u001b[0;34m\u001b[0m\u001b[0m\n\u001b[1;32m     16\u001b[0m \u001b[0;32mdef\u001b[0m \u001b[0mforward\u001b[0m\u001b[0;34m(\u001b[0m\u001b[0mx\u001b[0m\u001b[0;34m,\u001b[0m\u001b[0mw1\u001b[0m\u001b[0;34m,\u001b[0m\u001b[0mw2\u001b[0m\u001b[0;34m)\u001b[0m\u001b[0;34m:\u001b[0m\u001b[0;34m\u001b[0m\u001b[0m\n\u001b[0;32m---> 17\u001b[0;31m     \u001b[0;32mreturn\u001b[0m \u001b[0mtorch\u001b[0m\u001b[0;34m.\u001b[0m\u001b[0mge\u001b[0m\u001b[0;34m(\u001b[0m\u001b[0mtorch\u001b[0m\u001b[0;34m.\u001b[0m\u001b[0msigmoid\u001b[0m\u001b[0;34m(\u001b[0m\u001b[0mx\u001b[0m\u001b[0;34m.\u001b[0m\u001b[0mmm\u001b[0m\u001b[0;34m(\u001b[0m\u001b[0mw1\u001b[0m\u001b[0;34m)\u001b[0m\u001b[0;34m.\u001b[0m\u001b[0mclamp\u001b[0m\u001b[0;34m(\u001b[0m\u001b[0mmin\u001b[0m\u001b[0;34m=\u001b[0m\u001b[0;36m0\u001b[0m\u001b[0;34m)\u001b[0m\u001b[0;34m.\u001b[0m\u001b[0mmm\u001b[0m\u001b[0;34m(\u001b[0m\u001b[0mw2\u001b[0m\u001b[0;34m)\u001b[0m\u001b[0;34m)\u001b[0m\u001b[0;34m,\u001b[0m\u001b[0;36m0.5\u001b[0m\u001b[0;34m)\u001b[0m\u001b[0;34m.\u001b[0m\u001b[0mdouble\u001b[0m\u001b[0;34m(\u001b[0m\u001b[0;34m)\u001b[0m\u001b[0;34m\u001b[0m\u001b[0m\n\u001b[0m",
      "\u001b[0;32m~/miniconda3/envs/ml3/lib/python3.6/site-packages/torch/autograd/variable.py\u001b[0m in \u001b[0;36mmm\u001b[0;34m(self, matrix)\u001b[0m\n\u001b[1;32m    577\u001b[0m     \u001b[0;32mdef\u001b[0m \u001b[0mmm\u001b[0m\u001b[0;34m(\u001b[0m\u001b[0mself\u001b[0m\u001b[0;34m,\u001b[0m \u001b[0mmatrix\u001b[0m\u001b[0;34m)\u001b[0m\u001b[0;34m:\u001b[0m\u001b[0;34m\u001b[0m\u001b[0m\n\u001b[1;32m    578\u001b[0m         \u001b[0moutput\u001b[0m \u001b[0;34m=\u001b[0m \u001b[0mVariable\u001b[0m\u001b[0;34m(\u001b[0m\u001b[0mself\u001b[0m\u001b[0;34m.\u001b[0m\u001b[0mdata\u001b[0m\u001b[0;34m.\u001b[0m\u001b[0mnew\u001b[0m\u001b[0;34m(\u001b[0m\u001b[0mself\u001b[0m\u001b[0;34m.\u001b[0m\u001b[0mdata\u001b[0m\u001b[0;34m.\u001b[0m\u001b[0msize\u001b[0m\u001b[0;34m(\u001b[0m\u001b[0;36m0\u001b[0m\u001b[0;34m)\u001b[0m\u001b[0;34m,\u001b[0m \u001b[0mmatrix\u001b[0m\u001b[0;34m.\u001b[0m\u001b[0mdata\u001b[0m\u001b[0;34m.\u001b[0m\u001b[0msize\u001b[0m\u001b[0;34m(\u001b[0m\u001b[0;36m1\u001b[0m\u001b[0;34m)\u001b[0m\u001b[0;34m)\u001b[0m\u001b[0;34m)\u001b[0m\u001b[0;34m\u001b[0m\u001b[0m\n\u001b[0;32m--> 579\u001b[0;31m         \u001b[0;32mreturn\u001b[0m \u001b[0mAddmm\u001b[0m\u001b[0;34m.\u001b[0m\u001b[0mapply\u001b[0m\u001b[0;34m(\u001b[0m\u001b[0moutput\u001b[0m\u001b[0;34m,\u001b[0m \u001b[0mself\u001b[0m\u001b[0;34m,\u001b[0m \u001b[0mmatrix\u001b[0m\u001b[0;34m,\u001b[0m \u001b[0;36m0\u001b[0m\u001b[0;34m,\u001b[0m \u001b[0;36m1\u001b[0m\u001b[0;34m,\u001b[0m \u001b[0;32mTrue\u001b[0m\u001b[0;34m)\u001b[0m\u001b[0;34m\u001b[0m\u001b[0m\n\u001b[0m\u001b[1;32m    580\u001b[0m \u001b[0;34m\u001b[0m\u001b[0m\n\u001b[1;32m    581\u001b[0m     \u001b[0;32mdef\u001b[0m \u001b[0mbmm\u001b[0m\u001b[0;34m(\u001b[0m\u001b[0mself\u001b[0m\u001b[0;34m,\u001b[0m \u001b[0mbatch\u001b[0m\u001b[0;34m)\u001b[0m\u001b[0;34m:\u001b[0m\u001b[0;34m\u001b[0m\u001b[0m\n",
      "\u001b[0;32m~/miniconda3/envs/ml3/lib/python3.6/site-packages/torch/autograd/_functions/blas.py\u001b[0m in \u001b[0;36mforward\u001b[0;34m(ctx, add_matrix, matrix1, matrix2, alpha, beta, inplace)\u001b[0m\n\u001b[1;32m     24\u001b[0m         \u001b[0moutput\u001b[0m \u001b[0;34m=\u001b[0m \u001b[0m_get_output\u001b[0m\u001b[0;34m(\u001b[0m\u001b[0mctx\u001b[0m\u001b[0;34m,\u001b[0m \u001b[0madd_matrix\u001b[0m\u001b[0;34m,\u001b[0m \u001b[0minplace\u001b[0m\u001b[0;34m=\u001b[0m\u001b[0minplace\u001b[0m\u001b[0;34m)\u001b[0m\u001b[0;34m\u001b[0m\u001b[0m\n\u001b[1;32m     25\u001b[0m         return torch.addmm(alpha, add_matrix, beta,\n\u001b[0;32m---> 26\u001b[0;31m                            matrix1, matrix2, out=output)\n\u001b[0m\u001b[1;32m     27\u001b[0m \u001b[0;34m\u001b[0m\u001b[0m\n\u001b[1;32m     28\u001b[0m     \u001b[0;34m@\u001b[0m\u001b[0mstaticmethod\u001b[0m\u001b[0;34m\u001b[0m\u001b[0m\n",
      "\u001b[0;31mRuntimeError\u001b[0m: matrices expected, got 1D, 2D tensors at /pytorch/torch/lib/TH/generic/THTensorMath.c:1288"
     ]
    }
   ],
   "source": [
    "forward(X_test[0],w1,w2)"
   ]
  },
  {
   "cell_type": "code",
   "execution_count": 233,
   "metadata": {},
   "outputs": [
    {
     "ename": "IndexError",
     "evalue": "list index out of range",
     "output_type": "error",
     "traceback": [
      "\u001b[0;31m---------------------------------------------------------------------------\u001b[0m",
      "\u001b[0;31mIndexError\u001b[0m                                Traceback (most recent call last)",
      "\u001b[0;32m<ipython-input-233-2c0bd540b3b6>\u001b[0m in \u001b[0;36m<module>\u001b[0;34m()\u001b[0m\n\u001b[1;32m     16\u001b[0m \u001b[0;31m#     plt.scatter((i+1)*400,val,c='r',s=2000,zorder=-10)\u001b[0m\u001b[0;34m\u001b[0m\u001b[0;34m\u001b[0m\u001b[0m\n\u001b[1;32m     17\u001b[0m     \u001b[0mz\u001b[0m \u001b[0;34m=\u001b[0m \u001b[0;34m(\u001b[0m\u001b[0mi\u001b[0m \u001b[0;34m+\u001b[0m \u001b[0;36m1\u001b[0m\u001b[0;34m)\u001b[0m\u001b[0;34m*\u001b[0m\u001b[0;36m400\u001b[0m \u001b[0;34m-\u001b[0m \u001b[0;36m1\u001b[0m\u001b[0;34m\u001b[0m\u001b[0m\n\u001b[0;32m---> 18\u001b[0;31m     \u001b[0mtrain_epoch\u001b[0m \u001b[0;34m=\u001b[0m \u001b[0mplt\u001b[0m\u001b[0;34m.\u001b[0m\u001b[0mscatter\u001b[0m\u001b[0;34m(\u001b[0m\u001b[0mz\u001b[0m\u001b[0;34m,\u001b[0m \u001b[0mtrain_accuracy\u001b[0m\u001b[0;34m[\u001b[0m\u001b[0mz\u001b[0m\u001b[0;34m]\u001b[0m\u001b[0;34m,\u001b[0m \u001b[0mc\u001b[0m\u001b[0;34m=\u001b[0m\u001b[0;34m'm'\u001b[0m\u001b[0;34m,\u001b[0m\u001b[0ms\u001b[0m\u001b[0;34m=\u001b[0m\u001b[0;36m90\u001b[0m\u001b[0;34m,\u001b[0m\u001b[0mzorder\u001b[0m\u001b[0;34m=\u001b[0m\u001b[0;36m10\u001b[0m\u001b[0;34m,\u001b[0m\u001b[0mlabel\u001b[0m\u001b[0;34m=\u001b[0m\u001b[0;34m\"Train accuracy #epoch\"\u001b[0m\u001b[0;34m)\u001b[0m\u001b[0;34m\u001b[0m\u001b[0m\n\u001b[0m\u001b[1;32m     19\u001b[0m     \u001b[0mtest_epoch\u001b[0m \u001b[0;34m=\u001b[0m \u001b[0mplt\u001b[0m\u001b[0;34m.\u001b[0m\u001b[0mscatter\u001b[0m\u001b[0;34m(\u001b[0m\u001b[0mz\u001b[0m\u001b[0;34m,\u001b[0m \u001b[0mdev_accuracy\u001b[0m\u001b[0;34m[\u001b[0m\u001b[0mz\u001b[0m\u001b[0;34m]\u001b[0m\u001b[0;34m,\u001b[0m \u001b[0mc\u001b[0m\u001b[0;34m=\u001b[0m\u001b[0;34m'c'\u001b[0m\u001b[0;34m,\u001b[0m\u001b[0ms\u001b[0m\u001b[0;34m=\u001b[0m\u001b[0;36m90\u001b[0m\u001b[0;34m,\u001b[0m\u001b[0mzorder\u001b[0m\u001b[0;34m=\u001b[0m\u001b[0;36m10\u001b[0m\u001b[0;34m,\u001b[0m\u001b[0mlabel\u001b[0m\u001b[0;34m=\u001b[0m\u001b[0;34m\"Test accuracy #epoch\"\u001b[0m\u001b[0;34m)\u001b[0m\u001b[0;34m\u001b[0m\u001b[0m\n\u001b[1;32m     20\u001b[0m \u001b[0;34m\u001b[0m\u001b[0m\n",
      "\u001b[0;31mIndexError\u001b[0m: list index out of range"
     ]
    },
    {
     "data": {
      "image/png": "[encoded data removed]",
      "text/plain": [
       "<matplotlib.figure.Figure at 0x7fe58c9b5ac8>"
      ]
     },
     "metadata": {},
     "output_type": "display_data"
    }
   ],
   "source": [
    "# Learning rate 0.001\n",
    "# 0.973 0.9662 0.9696\n",
    "# 0.962 0.9698 0.9728\n",
    "# 0.969 0.9704 0.9746\n",
    "\n",
    "\n",
    "# Learning rate 0.01\n",
    "# 0.975 0.969 0.9742\n",
    "# 0.99 0.9736 0.9786\n",
    "# 0.986 0.977 0.9824\n",
    "plt.figure(figsize=(20, 5))\n",
    "plt1, = plt.plot(train_accuracy, label=\"Train accuracy\",color='orange',alpha=0.3)\n",
    "plt2, = plt.plot(dev_accuracy, label=\"Dev accuracy\", alpha=0.6)\n",
    "\n",
    "for i,val in enumerate(test_set_accuracy):\n",
    "#     plt.scatter((i+1)*400,val,c='r',s=2000,zorder=-10)\n",
    "    z = (i + 1)*400 - 1\n",
    "    train_epoch = plt.scatter(z, train_accuracy[z], c='m',s=90,zorder=10,label=\"Train accuracy #epoch\")\n",
    "    test_epoch = plt.scatter(z, dev_accuracy[z], c='c',s=90,zorder=10,label=\"Test accuracy #epoch\")\n",
    "    \n",
    "print(\"Best model at \" + str(np.argmax(dev_accuracy)) + \" with accuracy \" + str(np.max(dev_accuracy)))\n",
    "maximum_model = plt.scatter(np.argmax(dev_accuracy), dev_accuracy[np.argmax(dev_accuracy)], c='r',label='Highest Dev')\n",
    "plt.legend(handles=[plt1, plt2,train_epoch,test_epoch,maximum_model])\n",
    "print(\"Final accuracy \" + str(accuracy(y_test,predict(X_test, w1,w2))))"
   ]
  },
  {
   "cell_type": "code",
   "execution_count": null,
   "metadata": {
    "collapsed": true
   },
   "outputs": [],
   "source": []
  },
  {
   "cell_type": "code",
   "execution_count": null,
   "metadata": {
    "collapsed": true
   },
   "outputs": [],
   "source": []
  },
  {
   "cell_type": "code",
   "execution_count": 189,
   "metadata": {},
   "outputs": [
    {
     "data": {
      "text/plain": [
       "0.8008"
      ]
     },
     "execution_count": 189,
     "metadata": {},
     "output_type": "execute_result"
    }
   ],
   "source": [
    "loss_history = []\n",
    "train_accuracy = []\n",
    "dev_accuracy = []\n",
    "#             m1_.data = b1 * m1_.data + (1 - b1  + ep) * w1.grad.data\n",
    "#             m1_hat = m1_.data / (1 - (b1)**tp  + ep)\n",
    "#             v1.data = b2 * v1.data + (1 - b2) * (w1.grad.data).pow(2)\n",
    "#             v1_hat = v1.data / (1 - (b2)**(tp)  + ep)          \n",
    "            \n",
    "#             m2_.data = b1 * m2_.data + (1 - b1  + ep) * w2.grad.data\n",
    "#             m2_hat = m2_.data / (1 - (b1)**tp  + ep)\n",
    "#             v2.data = b2 * v2.data + (1 - b2) * (w2.grad.data).pow(2)\n",
    "#             v2_hat = v2.data / (1 - (b2)**(tp)  + ep)\n",
    "\n",
    "test_set_accuracy = []\n",
    "epoch_points_train = []\n",
    "epoch_points_dev = []\n",
    "print(\"Train | Dev\")\n",
    "for super in range(1):\n",
    "    w1 = Variable((0.2*torch.randn(m,hidden_layers)).double(),requires_grad=True) # m x P\n",
    "    w2 = Variable((0.2*torch.randn(hidden_layers,output_nodes)).double(),requires_grad=True) # P x output\n",
    "    \n",
    "    m1_ = Variable((torch.zeros((m, hidden_layers)).double()))\n",
    "    v1 = Variable((torch.zeros((m, hidden_layers)).double()))\n",
    "    \n",
    "    m2_ = Variable((torch.zeros((hidden_layers, output_nodes)).double()))\n",
    "    v2 = Variable((torch.zeros((hidden_layers, output_nodes)).double()))\n",
    "    \n",
    "    t= 0\n",
    "    \n",
    "    for iterations in range(1):\n",
    "        for i in range(10):\n",
    "            t += 1\n",
    "            tp = t*0.1\n",
    "            mid_layer = X_train[i].view(1,-1).mm(w1).clamp(min=0)\n",
    "            out_layer = torch.sigmoid(mid_layer.mm(w2))\n",
    "            eps1, eps2 = 1e-2,1e2\n",
    "            loss = (y_train[i] * (out_layer.clamp(eps1, eps2).log())) + \\\n",
    "                ((1-y_train[i]) * ((1-out_layer).clamp(eps1, eps2).log()))  \n",
    "            loss.backward()\n",
    "            \n",
    "            \n",
    "#             m1_.data = b1 * m1_.data + (1 - b1  + ep) * w1.grad.data\n",
    "#             m1_hat = m1_.data / (1 - (b1)**tp  + ep)\n",
    "#             v1.data = b2 * v1.data + (1 - b2) * (w1.grad.data).pow(2)\n",
    "#             v1_hat = v1.data / (1 - (b2)**(tp)  + ep)          \n",
    "            \n",
    "#             m2_.data = b1 * m2_.data + (1 - b1  + ep) * w2.grad.data\n",
    "#             m2_hat = m2_.data / (1 - (b1)**tp  + ep)\n",
    "#             v2.data = b2 * v2.data + (1 - b2) * (w2.grad.data).pow(2)\n",
    "#             v2_hat = v2.data / (1 - (b2)**(tp)  + ep)\n",
    "\n",
    "            \n",
    "#             w1.data += learning_rate * m1_hat / ((v1_hat).sqrt() + ep)\n",
    "#             w2.data += learning_rate * m2_hat / ((v2_hat).sqrt() + ep)            \n",
    "\n",
    "            \n",
    "            w1.data += learning_rate * w1.grad.data\n",
    "            w2.data += learning_rate * w2.grad.data\n",
    "            \n",
    "            w1.grad.data.zero_()\n",
    "            w2.grad.data.zero_()\n",
    "            \n",
    "\n",
    "            if i%100 == 0:\n",
    "                rand_train = torch.from_numpy(np.random.choice(40000, 1000, replace=False))\n",
    "                # rand_dev = torch.from_numpy(np.random.choice(5000, 1000, replace=False))\n",
    "                train_accuracy.append(accuracy(y_train[rand_train],predict(X_train[rand_train], w1, w2)))\n",
    "                # dev_accuracy.append(accuracy(y_dev[rand_dev], X_dev[rand_dev].mm(w.t())))\n",
    "                dev_accuracy.append(accuracy(y_dev, predict(X_dev, w1, w2)))\n",
    "        hidden_layers\n",
    "        test_set_accuracy.append(accuracy(y_test,predict(X_test, w1, w2)))\n",
    "        epoch_points_train.append(train_accuracy[-1])\n",
    "        epoch_points_dev.append(dev_accuracy[-1])\n",
    "\n",
    "        print(epoch_points_train[-1], epoch_points_dev[-1], test_set_accuracy[-1])\n",
    "        \n",
    "    print(\"\\n\")\n",
    "    "
   ]
  }
 ],
 "metadata": {
  "kernelspec": {
   "display_name": "Python 3",
   "language": "python",
   "name": "python3"
  },
  "language_info": {
   "codemirror_mode": {
    "name": "ipython",
    "version": 3
   },
   "file_extension": ".py",
   "mimetype": "text/x-python",
   "name": "python",
   "nbconvert_exporter": "python",
   "pygments_lexer": "ipython3",
   "version": "3.6.2"
  },
  "latex_envs": {
   "LaTeX_envs_menu_present": true,
   "autocomplete": true,
   "bibliofile": "biblio.bib",
   "cite_by": "apalike",
   "current_citInitial": 1,
   "eqLabelWithNumbers": true,
   "eqNumInitial": 1,
   "hotkeys": {
    "equation": "Ctrl-E",
    "itemize": "Ctrl-I"
   },
   "labels_anchors": false,
   "latex_user_defs": false,
   "report_style_numbering": false,
   "user_envs_cfg": false
  }
 },
 "nbformat": 4,
 "nbformat_minor": 2
}
