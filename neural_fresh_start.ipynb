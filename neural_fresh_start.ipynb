{
 "cells": [
  {
   "cell_type": "code",
   "execution_count": 241,
   "metadata": {
    "collapsed": true
   },
   "outputs": [],
   "source": [
    "%matplotlib inline\n",
    "import matplotlib.pyplot as plt\n",
    "import numpy as np\n",
    "import torch\n",
    "from torch.autograd import Variable\n",
    "import sys\n",
    "\n",
    "def sigmoid(x):\n",
    "    return 1 / (1 + math.exp(-x))\n",
    "    \n",
    "def sign(num):\n",
    "    check = Variable(torch.Tensor([0.0]).double().expand(num.size()))\n",
    "    return torch.ge(num,check).double()\n",
    "\n",
    "def accuracy(y_real, y_predicted):\n",
    "    n = y_real.size()[0]\n",
    "    return (y_predicted.data==y_real.data).sum()/n\n",
    "\n",
    "def predict(x,w1,w2):\n",
    "    return torch.ge(torch.sigmoid(torch.sigmoid(x.mm(w1)).mm(w2)),0.5).double()\n",
    "\n",
    "def accuracy2(y, y_hat):\n",
    "    a=torch.sum(y.data==y_hat.data)\n",
    "    n = y.size()[0]\n",
    "    return a/n"
   ]
  },
  {
   "cell_type": "code",
   "execution_count": 210,
   "metadata": {
    "collapsed": true
   },
   "outputs": [],
   "source": [
    "images=np.load('data/images.npy')\n",
    "labels=np.load('data/labels.npy')\n",
    "labels=labels.astype(int)\n",
    "labels[labels!=0]=-1\n",
    "labels[labels==0]=1\n",
    "labels[labels==-1]=0\n"
   ]
  },
  {
   "cell_type": "code",
   "execution_count": 211,
   "metadata": {
    "collapsed": true
   },
   "outputs": [],
   "source": [
    "shape_images_flat=(images.shape[0],images.shape[1]*images.shape[2])\n",
    "images_flat=np.ndarray(shape=shape_images_flat)\n",
    "for index in range(len(images)):\n",
    "    images_flat[index]=images[index].flat\n",
    "images_flat=(images_flat-images_flat.mean())/images.std()"
   ]
  },
  {
   "cell_type": "code",
   "execution_count": 212,
   "metadata": {
    "collapsed": true
   },
   "outputs": [],
   "source": [
    "train_images=images_flat[0:40000]\n",
    "train_labels=labels[0:40000]\n",
    "\n",
    "validation_images=images_flat[40000:45000]\n",
    "validation_labels=labels[40000:45000]\n",
    "\n",
    "test_images=images_flat[45000:50000]\n",
    "test_labels=labels[45000:50000]\n",
    "\n",
    "X = Variable(torch.from_numpy(images_flat)).double()\n",
    "y = Variable(torch.from_numpy(labels).view(-1,1)).double()"
   ]
  },
  {
   "cell_type": "code",
   "execution_count": 216,
   "metadata": {
    "collapsed": true
   },
   "outputs": [],
   "source": [
    "def predict_nn(images,input_weights,input_bias_weight,hidden_weights,hidden_bias_weight):\n",
    "    first_layer=torch.sigmoid(images.mm(input_weights)+input_bias_weight)\n",
    "    second_layer=first_layer.mm(w2)+hidden_bias_weight\n",
    "    return torch.ge(torch.sigmoid(second_layer),0.5).double()\n"
   ]
  },
  {
   "cell_type": "code",
   "execution_count": 173,
   "metadata": {
    "collapsed": true
   },
   "outputs": [],
   "source": [
    "training_accuracy_list=[]\n",
    "validation_accuracy_list=[]\n",
    "def compute_accuracy_graph(input_weights,input_bias_weight,hidden_weights,hidden_bias_weight):\n",
    "    train_images_len=len(train_images)\n",
    "    train_shuffler_list=list(range(0, train_images_len))\n",
    "    random.shuffle(train_shuffler_list)    \n",
    "    shuffled_train_images=train_images[train_shuffler_list]\n",
    "    shuffled_train_labels=train_labels[train_shuffler_list]\n",
    "    \n",
    "    shuffled_train_images_used=shuffled_train_images[0:1000]\n",
    "    shuffled_train_labels_used=shuffled_train_labels[0:1000]\n",
    "    \n",
    "    #d_train=shuffled_train_images_used.dot(W)\n",
    "    d_train = predict_nn(shuffled_train_images_used,\\\n",
    "            input_weights,input_bias_weight,\\\n",
    "            hidden_weights,hidden_bias_weight)\n",
    "    \n",
    "    \n",
    "    ac_train=accuracy_2(shuffled_train_labels_used,d_train)\n",
    "    training_accuracy_list.append(ac_train)\n",
    "    \n",
    "\n",
    "    validation_images_len=len(validation_images)\n",
    "    validation_shuffler_list=list(range(0, validation_images_len))\n",
    "    random.shuffle(validation_shuffler_list)    \n",
    "    shuffled_validation_images=validation_images[validation_shuffler_list]\n",
    "    shuffled_validation_labels=validation_labels[validation_shuffler_list]  \n",
    "    \n",
    "    shuffled_validation_images_used=shuffled_validation_images[0:5000]\n",
    "    shuffled_validation_labels_used=shuffled_validation_labels[0:5000]\n",
    "    \n",
    "    #d_validation=shuffled_validation_images_used.dot(W)\n",
    "    \n",
    "    d_validation = predict_nn(shuffled_validation_images_used,\\\n",
    "            input_weights,input_bias_weight,\\\n",
    "            hidden_weights,hidden_bias_weight)\n",
    "    \n",
    "    ac_validation=accuracy_2(shuffled_validation_labels_used,d_validation)\n",
    "    validation_accuracy_list.append(ac_validation)\n",
    "    \n",
    "    "
   ]
  },
  {
   "cell_type": "code",
   "execution_count": 174,
   "metadata": {
    "collapsed": true
   },
   "outputs": [],
   "source": [
    "X_test = X[-5000:]\n",
    "y_test = y[-5000:]\n",
    "\n",
    "X_train = X[:40000]\n",
    "X_dev = X[40000:45000]\n",
    "\n",
    "y_train = y_shuffled[:40000]\n",
    "y_dev = y_shuffled[40000:45000]\n",
    "\n"
   ]
  },
  {
   "cell_type": "code",
   "execution_count": 179,
   "metadata": {
    "collapsed": true
   },
   "outputs": [],
   "source": [
    "n,m = train_images.shape\n",
    "hidden_layers = 35\n",
    "output_nodes = 1\n",
    "n=5000"
   ]
  },
  {
   "cell_type": "code",
   "execution_count": 180,
   "metadata": {},
   "outputs": [
    {
     "name": "stdout",
     "output_type": "stream",
     "text": [
      "0.84935\n"
     ]
    }
   ],
   "source": [
    "train_accuracy = []\n",
    "\n",
    "test_set_accuracy = []\n",
    "epoch_points_train = []\n",
    "epoch_points_dev = []\n",
    "for super in range(1):\n",
    "    w1 = Variable((torch.randn(m,hidden_layers)).double(),requires_grad=True) # m x P\n",
    "    w2 = Variable((torch.randn(hidden_layers,output_nodes)).double(),requires_grad=True) # P x output\n",
    "    \n",
    "    m1_ = Variable((torch.zeros((m, hidden_layers)).double()))\n",
    "    v1 = Variable((torch.zeros((m, hidden_layers)).double()))\n",
    "    \n",
    "    m2_ = Variable((torch.zeros((hidden_layers, output_nodes)).double()))\n",
    "    v2 = Variable((torch.zeros((hidden_layers, output_nodes)).double()))\n",
    "    t = 0\n",
    "    for iterations in range(1):\n",
    "        for i in range(n):\n",
    "            \n",
    "            mid_layer = torch.sigmoid(X_train[i].view(1,-1).mm(w1))\n",
    "            out_layer = torch.sigmoid(mid_layer.mm(w2))\n",
    "            \n",
    "            eps1, eps2 = 1e-2,1e2\n",
    "            loss = (y_train[i] * (out_layer.clamp(eps1, eps2).log())) + \\\n",
    "                ((1-y_train[i]) * ((1-out_layer).clamp(eps1, eps2).log()))  \n",
    "            loss.backward()\n",
    " \n",
    "            lr1 = learning_rate * w1.grad.data\n",
    "            lr2 = learning_rate * w2.grad.data\n",
    "            \n",
    "            w1.data = w1.data + lr1\n",
    "            w2.data = w2.data + lr2\n",
    "            \n",
    "            w2.grad.data.zero_()\n",
    "            w1.grad.data.zero_()\n",
    "            \n",
    "            if i%5000 == 0:\n",
    "                compute_accuracy_graph(w1.data.numpy(),0,w2.data.numpy(),0)\n",
    "                train_accuracy.append(accuracy(y_train,predict(X_train, w1, w2)))\n",
    "       \n",
    "    a=accuracy(y_train,predict(X_train, w1, w2))\n",
    "    print(a)\n",
    "    "
   ]
  },
  {
   "cell_type": "code",
   "execution_count": 242,
   "metadata": {},
   "outputs": [
    {
     "name": "stdout",
     "output_type": "stream",
     "text": [
      "0.8956\n",
      "0.8956\n"
     ]
    }
   ],
   "source": [
    "a=accuracy(y_train,predict(X_train, w1, w2))\n",
    "print(a)\n",
    "weights=(w1,0,w2,0)\n",
    "# a=X_train.data()\n",
    "# b=y_train.data()\n",
    "d_train = predict_nn(X_train,weights[0],weights[1],weights[2],weights[3])\n",
    "ac=accuracy2(y_train,d_train)\n",
    "print(ac)"
   ]
  },
  {
   "cell_type": "code",
   "execution_count": null,
   "metadata": {
    "collapsed": true
   },
   "outputs": [],
   "source": []
  }
 ],
 "metadata": {
  "kernelspec": {
   "display_name": "Python 3",
   "language": "python",
   "name": "python3"
  },
  "language_info": {
   "codemirror_mode": {
    "name": "ipython",
    "version": 3
   },
   "file_extension": ".py",
   "mimetype": "text/x-python",
   "name": "python",
   "nbconvert_exporter": "python",
   "pygments_lexer": "ipython3",
   "version": "3.6.2"
  }
 },
 "nbformat": 4,
 "nbformat_minor": 2
}
