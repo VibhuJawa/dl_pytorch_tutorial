{
 "cells": [
  {
   "cell_type": "code",
   "execution_count": 461,
   "metadata": {
    "collapsed": true
   },
   "outputs": [],
   "source": [
    "%matplotlib inline\n",
    "import matplotlib.pyplot as plt\n",
    "import numpy as np\n",
    "import random \n",
    "import torch\n",
    "from torch.autograd import Variable\n",
    "import math\n",
    "\n",
    "def accuracy(y, y_hat):\n",
    "    a=(y==y_hat)\n",
    "    return a.astype(np.float).mean()"
   ]
  },
  {
   "cell_type": "markdown",
   "metadata": {},
   "source": [
    "## Load and flatten the image "
   ]
  },
  {
   "cell_type": "code",
   "execution_count": null,
   "metadata": {
    "collapsed": true
   },
   "outputs": [],
   "source": [
    "images=np.load('data/images.npy')\n",
    "labels=np.load('data/labels.npy')\n",
    "labels=labels.astype(int)\n",
    "labels[labels!=0]=-1\n",
    "labels[labels==0]=1\n",
    "labels[labels==-1]=0\n"
   ]
  },
  {
   "cell_type": "code",
   "execution_count": null,
   "metadata": {
    "collapsed": true
   },
   "outputs": [],
   "source": [
    "shape_images_flat=(images.shape[0],images.shape[1]*images.shape[2])\n",
    "images_flat=np.ndarray(shape=shape_images_flat)\n",
    "for index in range(len(images)):\n",
    "    images_flat[index]=images[index].flat\n",
    "images_flat=(images_flat-images_flat.mean())/images.std()"
   ]
  },
  {
   "cell_type": "code",
   "execution_count": null,
   "metadata": {
    "collapsed": true
   },
   "outputs": [],
   "source": [
    "images_tensor = torch.from_numpy(images_flat).double()\n",
    "\n",
    "train_images_tensor=images_tensor[0:40000]\n",
    "train_images=images_flat[0:40000]\n",
    "train_labels=labels[0:40000]\n",
    "\n",
    "validation_images_tensor=images_tensor[40000:45000]\n",
    "validation_images=images_flat[40000:45000]\n",
    "validation_labels=labels[40000:45000]\n",
    "\n",
    "test_images_tensor=images_tensor[45000:50000]\n",
    "test_images=images_flat[45000:50000]\n",
    "test_labels=labels[45000:50000]\n",
    "\n"
   ]
  },
  {
   "cell_type": "markdown",
   "metadata": {},
   "source": [
    "# Computes accuracy graph and Prediction Function"
   ]
  },
  {
   "cell_type": "code",
   "execution_count": 465,
   "metadata": {
    "collapsed": true
   },
   "outputs": [],
   "source": [
    "training_accuracy_list=[]\n",
    "validation_accuracy_list=[]\n",
    "\n",
    "def compute_accuracy_graph(input_weights,input_bias_weight,hidden_weights,hidden_bias_weight):\n",
    "    train_images_len=len(train_images)\n",
    "    train_shuffler_list=list(range(0, train_images_len))\n",
    "    random.shuffle(train_shuffler_list)\n",
    "    \n",
    "    shuffled_train_images=train_images_tensor[torch.LongTensor(train_shuffler_list)]\n",
    "    shuffled_train_labels=train_labels[train_shuffler_list]\n",
    "    shuffled_train_images_used=shuffled_train_images[0:1000]\n",
    "    shuffled_train_labels_used=shuffled_train_labels[0:1000]\n",
    "    \n",
    "    d_train = predict_nn(shuffled_train_images_used,input_weights,input_bias_weight,hidden_weights,hidden_bias_weight)\n",
    "    p=torch.t(d_train).numpy()[0]\n",
    "    ac=accuracy(p,np.transpose(shuffled_train_labels_used))   \n",
    "    training_accuracy_list.append(ac)\n",
    "    \n",
    "    validation_images_len=len(validation_images)\n",
    "    validation_shuffler_list=list(range(0, validation_images_len))\n",
    "    random.shuffle(validation_shuffler_list)    \n",
    "    shuffled_validation_images=validation_images_tensor[torch.LongTensor(validation_shuffler_list)]\n",
    "    shuffled_validation_labels=validation_labels[validation_shuffler_list]  \n",
    "    \n",
    "    shuffled_validation_images_used=shuffled_validation_images[0:1000]\n",
    "    shuffled_validation_labels_used=shuffled_validation_labels[0:1000]\n",
    "    \n",
    "    d_validation = predict_nn(shuffled_validation_images_used,input_weights,input_bias_weight,hidden_weights,hidden_bias_weight)\n",
    "    p=torch.t(d_validation).numpy()[0]\n",
    "    ac=accuracy(p,np.transpose(shuffled_validation_labels_used))   \n",
    "    validation_accuracy_list.append(ac)\n",
    "    \n",
    "    \n",
    "def predict_nn(images,input_weights,input_bias_weight,hidden_weights,hidden_bias_weight):\n",
    "    first_layer=torch.sigmoid(images.mm(input_weights)+input_bias_weight)\n",
    "    second_layer=first_layer.mm(hidden_weights)+hidden_bias_weight\n",
    "    return torch.ge(torch.sigmoid(second_layer),0.5).double()\n"
   ]
  },
  {
   "cell_type": "markdown",
   "metadata": {},
   "source": [
    "# Hyper Parameterd of NN"
   ]
  },
  {
   "cell_type": "code",
   "execution_count": 466,
   "metadata": {},
   "outputs": [],
   "source": [
    "n,m = train_images.shape\n",
    "hidden_layers = 37\n",
    "output_nodes = 1\n",
    "learning_rate=0.1\n",
    "total_epochs=10"
   ]
  },
  {
   "cell_type": "code",
   "execution_count": null,
   "metadata": {
    "collapsed": true
   },
   "outputs": [],
   "source": [
    "input_weights = Variable((torch.randn(m,hidden_layers)).double(),requires_grad=True) \n",
    "input_bias_weight=Variable(torch.randn(1).double(),requires_grad=True) \n",
    "hidden_weights = Variable((torch.randn(hidden_layers,output_nodes)).double(),requires_grad=True)\n",
    "hidden_bias_weight=Variable(torch.randn(1).double(),requires_grad=True) \n"
   ]
  },
  {
   "cell_type": "markdown",
   "metadata": {},
   "source": [
    "# Neural Networks Main Logic"
   ]
  },
  {
   "cell_type": "code",
   "execution_count": null,
   "metadata": {},
   "outputs": [],
   "source": [
    "input_weights = Variable((torch.randn(m,hidden_layers)).double(),requires_grad=True) \n",
    "input_bias_weight=Variable(torch.randn(1).double(),requires_grad=True) \n",
    "hidden_weights = Variable((torch.randn(hidden_layers,output_nodes)).double(),requires_grad=True)\n",
    "hidden_bias_weight=Variable(torch.randn(1).double(),requires_grad=True) \n",
    "\n",
    "train_labels_tensor=torch.from_numpy(train_labels).double()\n",
    "\n",
    "Y = Variable(train_labels_tensor,requires_grad=False)\n",
    "X = Variable(train_images_tensor,requires_grad=False)\n",
    "\n",
    "\n",
    "for iterations in range(total_epochs):\n",
    "    for i in range(n):\n",
    "        \n",
    "        first_layer=X[i].view(1,-1).mm(input_weights)\n",
    "        first_layer=first_layer+input_bias_weight\n",
    "        first_layer=torch.sigmoid(first_layer)\n",
    "        \n",
    "        # print(first_layer.size())\n",
    "        second_layer=first_layer.mm(hidden_weights)+hidden_bias_weight\n",
    "        prob=torch.sigmoid(second_layer)\n",
    "        esp1, esp2 = 1e-5,1e5\n",
    "        # J=(float(Y_train[i]))*torch.log(prob.clamp(esp1,esp2))+(1-float(Y_train[i]))*torch.log((1-prob).clamp(esp1,esp2))\n",
    "        J=(Y[i])*torch.log(prob.clamp(esp1,esp2))+(1-Y[i])*torch.log((1-prob).clamp(esp1,esp2))\n",
    "        J.backward()\n",
    "        input_weights.data +=learning_rate * input_weights.grad.data\n",
    "        input_bias_weight.data +=learning_rate*input_bias_weight.grad.data\n",
    "        \n",
    "        hidden_weights.data +=learning_rate * hidden_weights.grad.data\n",
    "        hidden_bias_weight.data +=learning_rate * hidden_bias_weight.grad.data\n",
    "        \n",
    "        hidden_weights.grad.data.zero_()\n",
    "        hidden_bias_weight.grad.data.zero_()\n",
    "        \n",
    "        input_weights.grad.data.zero_()\n",
    "        input_bias_weight.grad.data.zero_()\n",
    "        \n",
    "        if i%100 == 0:\n",
    "            compute_accuracy_graph(input_weights.data,input_bias_weight.data,\\\n",
    "                                   hidden_weights.data,hidden_bias_weight.data)\n"
   ]
  },
  {
   "cell_type": "markdown",
   "metadata": {},
   "source": [
    "## Test Accuracy"
   ]
  },
  {
   "cell_type": "code",
   "execution_count": null,
   "metadata": {},
   "outputs": [],
   "source": [
    "# data to be tested\n",
    "images_tensor=train_images_tensor\n",
    "labels=train_labels\n",
    "\n",
    "prediction=predict_nn(images_tensor, input_weights.data,input_bias_weight.data,hidden_weights.data ,hidden_bias_weight.data)\n",
    "p=torch.t(prediction)\n",
    "pred=p.numpy()[0]\n",
    "ac=accuracy(pred,np.transpose(labels))\n",
    "print(ac)"
   ]
  },
  {
   "cell_type": "markdown",
   "metadata": {},
   "source": [
    "## Computation Graph"
   ]
  },
  {
   "cell_type": "code",
   "execution_count": null,
   "metadata": {},
   "outputs": [],
   "source": [
    "plt.figure(figsize=(30, 10))\n",
    "plt.xlabel('iterations')\n",
    "plt.ylabel('accuracy')\n",
    "training_accuracy_line,=plt.plot(training_accuracy_list,label='Training Accuracy')\n",
    "validation_accuracy_line,=plt.plot(validation_accuracy_list,label='Validation Accuracy')\n",
    "plt.legend(handles=[training_accuracy_line, validation_accuracy_line])"
   ]
  },
  {
   "cell_type": "code",
   "execution_count": null,
   "metadata": {
    "collapsed": true
   },
   "outputs": [],
   "source": []
  },
  {
   "cell_type": "code",
   "execution_count": null,
   "metadata": {
    "collapsed": true
   },
   "outputs": [],
   "source": []
  }
 ],
 "metadata": {
  "kernelspec": {
   "display_name": "Python 3",
   "language": "python",
   "name": "python3"
  },
  "language_info": {
   "codemirror_mode": {
    "name": "ipython",
    "version": 3
   },
   "file_extension": ".py",
   "mimetype": "text/x-python",
   "name": "python",
   "nbconvert_exporter": "python",
   "pygments_lexer": "ipython3",
   "version": "3.6.2"
  }
 },
 "nbformat": 4,
 "nbformat_minor": 2
}
