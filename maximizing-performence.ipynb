{
 "cells": [
  {
   "cell_type": "markdown",
   "metadata": {},
   "source": [
    "# Import and boiler plate code"
   ]
  },
  {
   "cell_type": "code",
   "execution_count": 1,
   "metadata": {
    "collapsed": true
   },
   "outputs": [],
   "source": [
    "%matplotlib inline\n",
    "import matplotlib.pyplot as plt\n",
    "import numpy as np\n",
    "import random \n",
    "import torch\n",
    "from torch import autograd\n",
    "import torch.nn.functional as F\n",
    "import time"
   ]
  },
  {
   "cell_type": "markdown",
   "metadata": {},
   "source": [
    "Importing and Preparing Data"
   ]
  },
  {
   "cell_type": "code",
   "execution_count": 2,
   "metadata": {},
   "outputs": [
    {
     "name": "stdout",
     "output_type": "stream",
     "text": [
      "(array([0, 1, 2, 3, 4], dtype=uint8), array([10000, 10000, 10000, 10000, 10000]))\n"
     ]
    }
   ],
   "source": [
    "images=np.load('data/images.npy')\n",
    "labels=np.load('data/labels.npy')\n",
    "label_ids,count=np.unique(labels,return_counts=True)\n",
    "print(label_ids,count)\n"
   ]
  },
  {
   "cell_type": "code",
   "execution_count": 7,
   "metadata": {
    "collapsed": true
   },
   "outputs": [],
   "source": [
    "shape_images_flat=(images.shape[0],images.shape[1]*images.shape[2])\n",
    "images_normal=np.ndarray(shape=shape_images_flat)\n",
    "\n",
    "# normalizing and flattening images\n",
    "for index in range(len(images)):\n",
    "    images_normal[index]=((images[index]-images[index].mean())/images[index].std()).flat\n",
    "\n",
    "#  braking data set into train,validation and test sets\n",
    "train_images=images_normal[0:40000]\n",
    "train_labels=labels[0:40000]\n",
    "\n",
    "validation_images=images_normal[40000:45000]\n",
    "validation_labels=labels[40000:45000]\n",
    "\n",
    "test_images=images_normal[45000:50000]\n",
    "test_labels=labels[45000:50000]\n",
    "\n"
   ]
  },
  {
   "cell_type": "code",
   "execution_count": 8,
   "metadata": {
    "collapsed": true
   },
   "outputs": [],
   "source": [
    "def accuracy(y, y_hat):\n",
    "    a=(y==y_hat)\n",
    "    return a.astype(np.float).mean()"
   ]
  },
  {
   "cell_type": "code",
   "execution_count": 9,
   "metadata": {
    "collapsed": true
   },
   "outputs": [],
   "source": [
    "def approx_accuracy(curr_images,curr_labels,length=-1):\n",
    "    if length==-1:\n",
    "        length=len(curr_images)\n",
    "        \n",
    "    shuffle_list=np.random.choice(len(curr_images), length)\n",
    "    shuffled_images=curr_images[shuffle_list]\n",
    "    shuffled_labels=curr_labels[shuffle_list]\n",
    "    \n",
    "    x = autograd.Variable(torch.from_numpy(shuffled_images.astype(np.float32)))\n",
    "    y = autograd.Variable(torch.from_numpy(shuffled_labels.astype(np.int)))\n",
    "    _,y_hat =torch.max(model(x),1)\n",
    "    # print(y_hat.size())\n",
    "    return accuracy(y.data.numpy(), y_hat.data.numpy())\n",
    "         "
   ]
  },
  {
   "cell_type": "code",
   "execution_count": 10,
   "metadata": {
    "collapsed": true
   },
   "outputs": [],
   "source": [
    "def train(batch_size):\n",
    "    # model.train() puts our model in train mode, which can require different\n",
    "    # behavior than eval mode (for example in the case of dropout).\n",
    "    model.train()\n",
    "    \n",
    "    # i is is a 1-D array with shape [batch_size]\n",
    "    i = np.random.choice(train_images.shape[0], size=batch_size, replace=False)\n",
    "    x = autograd.Variable(torch.from_numpy(train_images[i].astype(np.float32)))\n",
    "    y = autograd.Variable(torch.from_numpy(train_labels[i].astype(np.int)))\n",
    "    \n",
    "    optimizer.zero_grad()\n",
    "    y_hat_ = model(x)\n",
    "    loss = F.cross_entropy(y_hat_, y)\n",
    "    loss.backward()\n",
    "    \n",
    "    optimizer.step()\n",
    "    return loss.data[0]\n"
   ]
  },
  {
   "cell_type": "markdown",
   "metadata": {},
   "source": [
    "##  BEST MODEL"
   ]
  },
  {
   "cell_type": "code",
   "execution_count": 40,
   "metadata": {
    "collapsed": true
   },
   "outputs": [],
   "source": [
    "batch_size=60\n",
    "learning_rate=1e-3\n",
    "NUM_OPT_STEPS=15000\n",
    "\n",
    "HEIGHT,WIDTH=26,26\n",
    "NUM_CLASSES=5\n",
    "NUM_HIDDEN_UNITS_1=200\n",
    "NUM_HIDDEN_UNITS_2=100\n",
    "\n",
    "# NUM_OPT_STEPS=train_labels.shape[0]/batch_size"
   ]
  },
  {
   "cell_type": "code",
   "execution_count": 41,
   "metadata": {
    "collapsed": true
   },
   "outputs": [],
   "source": [
    "class Best_Model(torch.nn.Module):\n",
    "    def __init__(self):\n",
    "        super(Best_Model,self).__init__()\n",
    "        self.conv1 = torch.nn.Conv2d(1, 32, kernel_size=3,stride=1)\n",
    "        self.conv2 = torch.nn.Conv2d(32, 64, kernel_size=3, stride=1)\n",
    "        self.fc1 = torch.nn.Linear( 30976, NUM_HIDDEN_UNITS_1)\n",
    "        self.fc2 = torch.nn.Linear(NUM_HIDDEN_UNITS_1, NUM_HIDDEN_UNITS_2)\n",
    "        self.fc3 = torch.nn.Linear(NUM_HIDDEN_UNITS_2, NUM_CLASSES)\n",
    "        \n",
    "    def forward(self, x):\n",
    "        # Convolutions work with images of shape\n",
    "        # [batch_size, num_channels, height, width]\n",
    "        x = x.view(-1, HEIGHT, WIDTH).unsqueeze(1)\n",
    "        x = F.relu(self.conv1(x))\n",
    "        x = F.relu(self.conv2(x))\n",
    "        n, c, h, w = x.size()\n",
    "        x = x.view(-1, self.num_flat_features(x))\n",
    "        x = F.relu(self.fc1(x))\n",
    "        x = F.relu(self.fc2(x))\n",
    "        x = self.fc3(x)\n",
    "        return x\n",
    "    def num_flat_features(self, x):\n",
    "        size = x.size()[1:]  # all dimensions except the batch dimension\n",
    "        num_features = 1\n",
    "        for s in size:\n",
    "            num_features *= s\n",
    "        return num_features\n",
    "    "
   ]
  },
  {
   "cell_type": "code",
   "execution_count": 42,
   "metadata": {},
   "outputs": [
    {
     "name": "stdout",
     "output_type": "stream",
     "text": [
      "Best_Model (\n",
      "  (conv1): Conv2d(1, 32, kernel_size=(3, 3), stride=(1, 1))\n",
      "  (conv2): Conv2d(32, 64, kernel_size=(3, 3), stride=(1, 1))\n",
      "  (fc1): Linear (30976 -> 200)\n",
      "  (fc2): Linear (200 -> 100)\n",
      "  (fc3): Linear (100 -> 5)\n",
      ")\n"
     ]
    }
   ],
   "source": [
    "model=Best_Model()\n",
    "print(model)\n",
    "optimizer=torch.optim.Adam(model.parameters(),lr=learning_rate)\n"
   ]
  },
  {
   "cell_type": "code",
   "execution_count": null,
   "metadata": {},
   "outputs": [
    {
     "name": "stdout",
     "output_type": "stream",
     "text": [
      "     0  0.19  0.21\n",
      "  1000  0.96  0.93\n"
     ]
    }
   ],
   "source": [
    "train_accs, val_accs = [], [] \n",
    "start=time.time()\n",
    "\n",
    "for i in range(NUM_OPT_STEPS):\n",
    "    train(batch_size)    \n",
    "    if i % 100 == 0:\n",
    "        train_accs.append(approx_accuracy(train_images,train_labels,1000))\n",
    "        val_accs.append(approx_accuracy(validation_images,validation_labels))\n",
    "    if i%1000 == 0:\n",
    "        print(\"%6d %5.2f %5.2f\" % ( i, train_accs[-1], val_accs[-1]))\n",
    "\n",
    "end=time.time()\n",
    "print('Time taken', end-start)"
   ]
  },
  {
   "cell_type": "code",
   "execution_count": null,
   "metadata": {
    "collapsed": true
   },
   "outputs": [],
   "source": [
    "\n",
    "print(\"%6d %5.2f %5.2f\" % ( i, train_accs[-1], val_accs[-1]))\n",
    "plt.figure(figsize=(30, 10))\n",
    "plt.xlabel('iterations')\n",
    "plt.ylabel('accuracy')\n",
    "training_accuracy_line,=plt.plot(train_accs,label='Training Accuracy-Single Stride')\n",
    "validation_accuracy_line,=plt.plot(val_accs,label='Validation Accuracy-Single Stride')\n",
    "plt.legend(handles=[training_accuracy_line, validation_accuracy_line])"
   ]
  }
 ],
 "metadata": {
  "kernelspec": {
   "display_name": "Python 3",
   "language": "python",
   "name": "python3"
  },
  "language_info": {
   "codemirror_mode": {
    "name": "ipython",
    "version": 2
   },
   "file_extension": ".py",
   "mimetype": "text/x-python",
   "name": "python",
   "nbconvert_exporter": "python",
   "pygments_lexer": "ipython2",
   "version": "2.7.14"
  }
 },
 "nbformat": 4,
 "nbformat_minor": 2
}
