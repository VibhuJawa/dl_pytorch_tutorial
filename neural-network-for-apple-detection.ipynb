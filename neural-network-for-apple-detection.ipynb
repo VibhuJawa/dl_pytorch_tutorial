{
 "cells": [
  {
   "cell_type": "code",
   "execution_count": 262,
   "metadata": {
    "collapsed": true
   },
   "outputs": [],
   "source": [
    "%matplotlib inline\n",
    "import matplotlib.pyplot as plt\n",
    "import numpy as np\n",
    "import random \n",
    "import torch\n",
    "from torch.autograd import Variable\n",
    "import torch.nn\n",
    "import math\n"
   ]
  },
  {
   "cell_type": "code",
   "execution_count": 263,
   "metadata": {
    "collapsed": true
   },
   "outputs": [],
   "source": [
    "images=np.load('data/images.npy')\n",
    "labels=np.load('data/labels.npy')\n",
    "labels=labels.astype(int)\n",
    "labels[labels!=0]=-1\n",
    "labels[labels==0]=1\n",
    "labels[labels==-1]=0\n"
   ]
  },
  {
   "cell_type": "code",
   "execution_count": 264,
   "metadata": {},
   "outputs": [
    {
     "name": "stdout",
     "output_type": "stream",
     "text": [
      "10000\n"
     ]
    },
    {
     "data": {
      "text/plain": [
       "<matplotlib.image.AxesImage at 0x11f12ff60>"
      ]
     },
     "execution_count": 264,
     "metadata": {},
     "output_type": "execute_result"
    },
    {
     "data": {
      "image/png": "[encoded data removed]",
      "text/plain": [
       "<matplotlib.figure.Figure at 0x118454438>"
      ]
     },
     "metadata": {},
     "output_type": "display_data"
    }
   ],
   "source": [
    "apples=images[labels==1]\n",
    "print(len(apples))\n",
    "plt.imshow(apples[0])\n"
   ]
  },
  {
   "cell_type": "code",
   "execution_count": 265,
   "metadata": {},
   "outputs": [],
   "source": [
    "shape_images_flat=(images.shape[0],images.shape[1]*images.shape[2])\n",
    "images_flat=np.ndarray(shape=shape_images_flat)\n",
    "for index in range(len(images)):\n",
    "    images_flat[index]=images[index].flat\n",
    "images=(images_flat-images_flat.mean())/images.std()"
   ]
  },
  {
   "cell_type": "code",
   "execution_count": 266,
   "metadata": {
    "collapsed": true
   },
   "outputs": [],
   "source": [
    "train_images=images[0:40000]\n",
    "train_labels=labels[0:40000]\n",
    "\n",
    "validation_images=images[40000:45000]\n",
    "validation_labels=labels[40000:45000]\n",
    "\n",
    "test_images=images[45000:50000]\n",
    "test_labels=labels[45000:50000]"
   ]
  },
  {
   "cell_type": "code",
   "execution_count": 267,
   "metadata": {
    "collapsed": true
   },
   "outputs": [],
   "source": [
    "def sigmoid(x):  \n",
    "    return math.exp(-np.logaddexp(0, -x))"
   ]
  },
  {
   "cell_type": "code",
   "execution_count": 330,
   "metadata": {
    "collapsed": true
   },
   "outputs": [],
   "source": [
    "def accuracy(y, y_hat):\n",
    "    \"\"\"Compute accuracy.\n",
    "    Args:\n",
    "    y: A 1-D int NumPy array.\n",
    "    y_hat: A 1-D int NumPy array.\n",
    "    Returns:\n",
    "    A float, the fraction of time y[i] == y_hat[i].\n",
    "    \"\"\"\n",
    "   \n",
    "    a=(y==y_hat)\n",
    "    return a.astype(np.float).mean()"
   ]
  },
  {
   "cell_type": "code",
   "execution_count": 331,
   "metadata": {
    "collapsed": true
   },
   "outputs": [],
   "source": [
    "def predict_nn(images,\\\n",
    "            input_weights,input_bias_weight,\\\n",
    "            hidden_weights,hidden_bias_weight):\n",
    "    \n",
    "    images=np.asmatrix(images)\n",
    "    input_weights=np.asmatrix(input_weights)\n",
    "    hidden_weights=np.asmatrix(hidden_weights)\n",
    "    \n",
    "    first_layer=images*input_weights.T\n",
    "    # first_layer+=input_bias_weight\n",
    "    \n",
    "    vfunc = np.vectorize(sigmoid)\n",
    "    \n",
    "    output=vfunc(first_layer)*hidden_weights\n",
    "    # hidden_bias_weight\n",
    "    output[output>0]=1\n",
    "    output[output<=0]=0\n",
    "    return output\n",
    "\n",
    "    \n"
   ]
  },
  {
   "cell_type": "code",
   "execution_count": 376,
   "metadata": {
    "collapsed": true
   },
   "outputs": [],
   "source": [
    "training_accuracy_list=[]\n",
    "validation_accuracy_list=[]\n",
    "def compute_accuracy_graph(input_weights,input_bias_weight,hidden_weights,hidden_bias_weight):\n",
    "    train_images_len=len(train_images)\n",
    "    train_shuffler_list=list(range(0, train_images_len))\n",
    "    random.shuffle(train_shuffler_list)    \n",
    "    shuffled_train_images=train_images[train_shuffler_list]\n",
    "    shuffled_train_labels=train_labels[train_shuffler_list]\n",
    "    \n",
    "    shuffled_train_images_used=shuffled_train_images[0:1000]\n",
    "    shuffled_train_labels_used=shuffled_train_labels[0:1000]\n",
    "    \n",
    "    #d_train=shuffled_train_images_used.dot(W)\n",
    "    d_train = predict_nn(shuffled_train_images_used,\\\n",
    "            input_weights,input_bias_weight,\\\n",
    "            hidden_weights,hidden_bias_weight)\n",
    "    \n",
    "    \n",
    "    ac_train=accuracy(shuffled_train_labels_used,d_train)\n",
    "    training_accuracy_list.append(ac_train)\n",
    "    \n",
    "\n",
    "    validation_images_len=len(validation_images)\n",
    "    validation_shuffler_list=list(range(0, validation_images_len))\n",
    "    random.shuffle(validation_shuffler_list)    \n",
    "    shuffled_validation_images=validation_images[validation_shuffler_list]\n",
    "    shuffled_validation_labels=validation_labels[validation_shuffler_list]  \n",
    "    \n",
    "    shuffled_validation_images_used=shuffled_validation_images[0:5000]\n",
    "    shuffled_validation_labels_used=shuffled_validation_labels[0:5000]\n",
    "    \n",
    "    #d_validation=shuffled_validation_images_used.dot(W)\n",
    "    \n",
    "    d_validation = predict_nn(shuffled_validation_images_used,\\\n",
    "            input_weights,input_bias_weight,\\\n",
    "            hidden_weights,hidden_bias_weight)\n",
    "    \n",
    "    ac_validation=accuracy(shuffled_validation_labels_used,d_validation)\n",
    "    validation_accuracy_list.append(ac_validation)\n",
    "    \n",
    "    "
   ]
  },
  {
   "cell_type": "markdown",
   "metadata": {},
   "source": [
    "# Neural Network Code"
   ]
  },
  {
   "cell_type": "code",
   "execution_count": 377,
   "metadata": {
    "collapsed": true
   },
   "outputs": [],
   "source": [
    "I=1\n",
    "learning_rate=.00001"
   ]
  },
  {
   "cell_type": "code",
   "execution_count": 378,
   "metadata": {},
   "outputs": [
    {
     "ename": "SyntaxError",
     "evalue": "invalid syntax (<ipython-input-378-624c8e378405>, line 4)",
     "output_type": "error",
     "traceback": [
      "\u001b[0;36m  File \u001b[0;32m\"<ipython-input-378-624c8e378405>\"\u001b[0;36m, line \u001b[0;32m4\u001b[0m\n\u001b[0;31m    number_of_hidden_units=\u001b[0m\n\u001b[0m                           ^\u001b[0m\n\u001b[0;31mSyntaxError\u001b[0m\u001b[0;31m:\u001b[0m invalid syntax\n"
     ]
    }
   ],
   "source": [
    "X=train_images\n",
    "Y=train_labels\n",
    "number_of_images=10000\n",
    "number_of_hidden_units=\n",
    "\n",
    "W_tensor=torch.DoubleTensor(number_of_hidden_units,X.shape[1]).uniform_(-1, 1)\n",
    "input_bias_weight=torch.DoubleTensor(1).uniform_(-1, 1)\n",
    "\n",
    "# make input bias and input weigths variables\n",
    "input_bias_weight=Variable(input_bias_weight,requires_grad=True)\n",
    "W_tensor=Variable(W_tensor,requires_grad=True)\n",
    "\n",
    "a_tensor=torch.DoubleTensor(number_of_hidden_units,1).uniform_(-1, 1)\n",
    "hidden_bias_weight=torch.DoubleTensor(1).uniform_(-1, 1)\n",
    "# make hidden bias and hidden weigths variables\n",
    "hidden_bias_weight=Variable(hidden_bias_weight,requires_grad=True)\n",
    "a_tensor=Variable(a_tensor,requires_grad=True)\n",
    "\n",
    "# print(bias_weight)\n",
    "# print(W_tensor[0])\n",
    "# print(W_tensor.size())\n",
    "\n",
    "for epoch in range(0,I):   \n",
    "    for i in range(0,number_of_images):\n",
    "        \n",
    "        #forward propogation part\n",
    "        x_tensor=torch.from_numpy(X[i])\n",
    "        x_tensor=torch.unsqueeze(x_tensor, 0)\n",
    "        x_tensor=Variable(x_tensor,requires_grad=False)\n",
    "        \n",
    "        w_x=torch.mm(W_tensor,x_tensor.t())\n",
    "        w_x=torch.sigmoid(w_x)\n",
    "        \n",
    "        a_w_x=torch.mm(a_tensor.t(),w_x)\n",
    "        prob=torch.sigmoid(a_w_x)\n",
    "        \n",
    "        esp1, esp2 = 1e-9,1e9\n",
    "        J=(float(Y[i]))*torch.log(prob.clamp(esp1,esp2))+(1-float(Y[i]))*torch.log((1-prob).clamp(esp1,esp2))\n",
    "        J.backward()\n",
    "\n",
    "        #back propogation part\n",
    "        W_tensor.data += learning_rate * W_tensor.grad.data\n",
    "        # input_bias_weight.data += learning_rate * input_bias_weight.grad.data\n",
    "\n",
    "        a_tensor.data += learning_rate * a_tensor.grad.data\n",
    "        # hidden_bias_weight.data += learning_rate * hidden_bias_weight.grad.data\n",
    "        \n",
    "        if(i%100==0):\n",
    "            compute_accuracy_graph(W_tensor.data.numpy(),input_bias_weight.data.numpy(),\\\n",
    "                                   a_tensor.data.numpy(),hidden_bias_weight.data.numpy())\n",
    "        if(i%1000==0):  \n",
    "            print(J)\n",
    "        \n",
    "        \n",
    "        #shape sanity checks\n",
    "        # print(w_x.size())\n",
    "        # print(a_w_x.size())\n",
    "    print(J)  \n",
    "\n",
    "weights=(W_tensor.data.numpy(),input_bias_weight.data.numpy(),\\\n",
    "                                   a_tensor.data.numpy(),hidden_bias_weight.data.numpy())"
   ]
  },
  {
   "cell_type": "code",
   "execution_count": null,
   "metadata": {},
   "outputs": [],
   "source": [
    "X=test_images\n",
    "y=test_labels\n",
    "d=predict_nn(test_images,weights[0],weights[1],weights[2],weights[3])\n",
    "ac=accuracy(y,d)\n",
    "print(ac)\n"
   ]
  },
  {
   "cell_type": "code",
   "execution_count": 379,
   "metadata": {},
   "outputs": [
    {
     "name": "stdout",
     "output_type": "stream",
     "text": [
      "1\n"
     ]
    },
    {
     "data": {
      "text/plain": [
       "<matplotlib.legend.Legend at 0x119e03c50>"
      ]
     },
     "execution_count": 379,
     "metadata": {},
     "output_type": "execute_result"
    },
    {
     "data": {
      "image/png": "[encoded data removed]",
      "text/plain": [
       "<matplotlib.figure.Figure at 0x1199f87f0>"
      ]
     },
     "metadata": {},
     "output_type": "display_data"
    }
   ],
   "source": [
    "print(y.max())\n",
    "plt.figure(figsize=(20, 5))\n",
    "plt.xlabel('iterations')\n",
    "plt.ylabel('accuracy')\n",
    "training_accuracy_line,=plt.plot(training_accuracy_list,label='Training Accuracy')\n",
    "validation_accuracy_line,=plt.plot(validation_accuracy_list,label='Validation Accuracy')\n",
    "plt.legend(handles=[training_accuracy_line, validation_accuracy_line])\n",
    "\n"
   ]
  },
  {
   "cell_type": "code",
   "execution_count": null,
   "metadata": {
    "collapsed": true
   },
   "outputs": [],
   "source": []
  },
  {
   "cell_type": "code",
   "execution_count": null,
   "metadata": {
    "collapsed": true
   },
   "outputs": [],
   "source": []
  },
  {
   "cell_type": "code",
   "execution_count": null,
   "metadata": {
    "collapsed": true
   },
   "outputs": [],
   "source": []
  }
 ],
 "metadata": {
  "kernelspec": {
   "display_name": "Python 3",
   "language": "python",
   "name": "python3"
  },
  "language_info": {
   "codemirror_mode": {
    "name": "ipython",
    "version": 3
   },
   "file_extension": ".py",
   "mimetype": "text/x-python",
   "name": "python",
   "nbconvert_exporter": "python",
   "pygments_lexer": "ipython3",
   "version": "3.6.2"
  }
 },
 "nbformat": 4,
 "nbformat_minor": 2
}
