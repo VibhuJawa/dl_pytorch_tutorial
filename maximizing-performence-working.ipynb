{
 "cells": [
  {
   "cell_type": "markdown",
   "metadata": {},
   "source": [
    "# Import and boiler plate code"
   ]
  },
  {
   "cell_type": "code",
   "execution_count": 164,
   "metadata": {},
   "outputs": [],
   "source": [
    "%matplotlib inline\n",
    "import matplotlib.pyplot as plt\n",
    "import numpy as np\n",
    "import random \n",
    "import torch\n",
    "from torch import autograd\n",
    "import torch.nn.functional as F\n",
    "import time\n",
    "import math\n",
    "from skimage import io,transform as sk_transform\n"
   ]
  },
  {
   "cell_type": "markdown",
   "metadata": {},
   "source": [
    "Importing and Preparing Data"
   ]
  },
  {
   "cell_type": "code",
   "execution_count": 165,
   "metadata": {},
   "outputs": [
    {
     "name": "stdout",
     "output_type": "stream",
     "text": [
      "(array([0, 1, 2, 3, 4], dtype=uint8), array([10000, 10000, 10000, 10000, 10000]))\n"
     ]
    }
   ],
   "source": [
    "images=np.load('data/images.npy')\n",
    "labels=np.load('data/labels.npy')\n",
    "label_ids,count=np.unique(labels,return_counts=True)\n",
    "print(label_ids,count)\n"
   ]
  },
  {
   "cell_type": "code",
   "execution_count": 166,
   "metadata": {},
   "outputs": [],
   "source": [
    "shape_images_flat=(images.shape[0],images.shape[1]*images.shape[2])\n",
    "images_normal=np.ndarray(shape=shape_images_flat)\n",
    "\n",
    "# normalizing and flattening images\n",
    "for index in range(len(images)):\n",
    "    images_normal[index]=((images[index]-images[index].mean())/images[index].std()).flat\n",
    "\n",
    "#  braking data set into train,validation and test sets\n",
    "train_images=images_normal[0:45000]\n",
    "train_labels=labels[0:45000]\n",
    "\n",
    "validation_images=images_normal[45000:50000]\n",
    "validation_labels=labels[45000:50000]\n",
    "\n",
    "test_images=images_normal[45000:50000]\n",
    "test_labels=labels[45000:50000]\n",
    "\n"
   ]
  },
  {
   "cell_type": "code",
   "execution_count": 167,
   "metadata": {},
   "outputs": [],
   "source": [
    "def accuracy(y, y_hat):\n",
    "    a=(y==y_hat)\n",
    "    return a.astype(np.float).mean()"
   ]
  },
  {
   "cell_type": "code",
   "execution_count": 168,
   "metadata": {},
   "outputs": [],
   "source": [
    "def approx_accuracy(curr_images,curr_labels,length=-1):\n",
    "    if length==-1:\n",
    "        length=len(curr_images)\n",
    "        \n",
    "    shuffle_list=np.random.choice(len(curr_images), length)\n",
    "    shuffled_images=curr_images[shuffle_list]\n",
    "    shuffled_labels=curr_labels[shuffle_list]\n",
    "    \n",
    "    x = autograd.Variable(torch.from_numpy(shuffled_images.astype(np.float32))).cuda()\n",
    "    y = autograd.Variable(torch.from_numpy(shuffled_labels.astype(np.int))).cuda()\n",
    "    _,y_hat =torch.max(model(x),1)\n",
    "    # print(y_hat.size())\n",
    "    return accuracy(y.cpu().data.numpy(), y_hat.cpu().data.numpy())\n",
    "         "
   ]
  },
  {
   "cell_type": "code",
   "execution_count": 192,
   "metadata": {},
   "outputs": [],
   "source": [
    "def random_augment_image(images):\n",
    "    \n",
    "    for i in xrange(0,images.shape[0]):\n",
    "        image=images[i]\n",
    "        image=image.reshape(26,26)\n",
    "        # print(image.shape)\n",
    "        ## mirror flipping\n",
    "        flip_probab = random.random()\n",
    "        if flip_probab <=0.8:\n",
    "            image = np.fliplr(image)\n",
    "\n",
    "        # rotate image parmaeter:\n",
    "        angle = math.radians(random.randrange(-30, +30))\n",
    "        \n",
    "        # translate image parameter\n",
    "        tr_distance_x = random.randrange(-3, +3)\n",
    "        tr_distance_y = random.randrange(-3, +3)\n",
    "        # scaling image parameter\n",
    "        scaling_val=random.uniform(0.7,1.3) \n",
    "        \n",
    "        tform=sk_transform.SimilarityTransform(scale=scaling_val, rotation=angle,\\\n",
    "                                                    translation=(tr_distance_x, tr_distance_y))\n",
    "        # transform probabilty \n",
    "        tr_probab= random.random()\n",
    "        if tr_probab<=0.8:\n",
    "            image = sk_transform.warp(image,inverse_map=tform)        \n",
    "        images[i]=image.flat\n",
    "    return images"
   ]
  },
  {
   "cell_type": "code",
   "execution_count": 193,
   "metadata": {},
   "outputs": [],
   "source": [
    "def train(batch_size):\n",
    "    # model.train() puts our model in train mode, which can require different\n",
    "    # behavior than eval mode (for example in the case of dropout).\n",
    "    model.train()\n",
    "    \n",
    "    # i is is a 1-D array with shape [batch_size]\n",
    "    i = np.random.choice(train_images.shape[0], size=batch_size, replace=False)\n",
    "    x = autograd.Variable(torch.from_numpy(random_augment_image(train_images[i]).astype(np.float32))).cuda()\n",
    "    y = autograd.Variable(torch.from_numpy(train_labels[i].astype(np.int))).cuda()\n",
    "    \n",
    "    optimizer.zero_grad()\n",
    "    y_hat_ = model(x)\n",
    "    loss = F.cross_entropy(y_hat_, y).cuda()\n",
    "    loss.backward()\n",
    "    \n",
    "    optimizer.step()\n",
    "    return loss.data[0]\n"
   ]
  },
  {
   "cell_type": "markdown",
   "metadata": {},
   "source": [
    "##  BEST MODEL"
   ]
  },
  {
   "cell_type": "code",
   "execution_count": 194,
   "metadata": {},
   "outputs": [],
   "source": [
    "batch_size=60\n",
    "learning_rate=1e-3\n",
    "NUM_OPT_STEPS=30000\n",
    "\n",
    "HEIGHT,WIDTH=26,26\n",
    "NUM_CLASSES=5\n",
    "NUM_HIDDEN_UNITS_1=500\n",
    "NUM_HIDDEN_UNITS_2=100\n",
    "NUM_HIDDEN_UNITS_3=50\n",
    "# NUM_OPT_STEPS=train_labels.shape[0]/batch_size"
   ]
  },
  {
   "cell_type": "code",
   "execution_count": 182,
   "metadata": {},
   "outputs": [],
   "source": [
    "class Best_Model(torch.nn.Module):\n",
    "    def __init__(self):\n",
    "        super(Best_Model,self).__init__()\n",
    "        self.conv1 = torch.nn.Conv2d(1, 32, kernel_size=3,stride=1)\n",
    "        self.conv2 = torch.nn.Conv2d(32, 64, kernel_size=3, stride=1)\n",
    "        self.conv3 = torch.nn.Conv2d(64, 128, kernel_size=3, stride=1)\n",
    "        self.fc1 = torch.nn.Linear( 3200, NUM_HIDDEN_UNITS_1)\n",
    "        self.fc2 = torch.nn.Linear(NUM_HIDDEN_UNITS_1, NUM_HIDDEN_UNITS_2)\n",
    "        self.fc3 = torch.nn.Linear(NUM_HIDDEN_UNITS_2, NUM_CLASSES)\n",
    "        self.drop_1 = torch.nn.Dropout(p=0.7)\n",
    "        self.F_max_pool2d = F.max_pool2d\n",
    "    def forward(self, x):\n",
    "        # Convolutions work with images of shape\n",
    "        # [batch_size, num_channels, height, width]\n",
    "        x = x.view(-1, HEIGHT, WIDTH).unsqueeze(1)\n",
    "      \n",
    "        x = F.relu(self.conv1(x))\n",
    "        x = F.relu(self.conv2(x))\n",
    "        x= self.F_max_pool2d(x,3)\n",
    "        x = F.relu(self.conv3(x))\n",
    "        n, c, h, w = x.size()\n",
    "        x = x.view(-1, self.num_flat_features(x))\n",
    "        x = F.relu(self.fc1(x))\n",
    "        x = F.relu(self.fc2(x))\n",
    "        x = self.fc3(x)\n",
    "        return x\n",
    "    def num_flat_features(self, x):\n",
    "        size = x.size()[1:]  # all dimensions except the batch dimension\n",
    "        num_features = 1\n",
    "        for s in size:\n",
    "            num_features *= s\n",
    "        return num_features\n",
    "    "
   ]
  },
  {
   "cell_type": "code",
   "execution_count": 183,
   "metadata": {},
   "outputs": [
    {
     "name": "stdout",
     "output_type": "stream",
     "text": [
      "Best_Model (\n",
      "  (conv1): Conv2d(1, 32, kernel_size=(3, 3), stride=(1, 1))\n",
      "  (conv2): Conv2d(32, 64, kernel_size=(3, 3), stride=(1, 1))\n",
      "  (conv3): Conv2d(64, 128, kernel_size=(3, 3), stride=(1, 1))\n",
      "  (fc1): Linear (3200 -> 500)\n",
      "  (fc2): Linear (500 -> 100)\n",
      "  (fc3): Linear (100 -> 5)\n",
      ")\n"
     ]
    }
   ],
   "source": [
    "model=Best_Model().cuda()\n",
    "print(model)\n",
    "optimizer=torch.optim.Adam(model.parameters(),lr=learning_rate)\n"
   ]
  },
  {
   "cell_type": "code",
   "execution_count": 184,
   "metadata": {},
   "outputs": [
    {
     "name": "stdout",
     "output_type": "stream",
     "text": [
      "     0 0.207 0.182 0.188\n",
      "  1000 0.907 0.908 0.907\n",
      "  2000 0.937 0.933 0.930\n",
      "  3000 0.929 0.928 0.926\n",
      "  4000 0.944 0.937 0.931\n",
      "  5000 0.950 0.945 0.942\n",
      "  6000 0.941 0.947 0.943\n",
      "  7000 0.961 0.954 0.944\n",
      "  8000 0.964 0.952 0.946\n",
      "  9000 0.966 0.944 0.944\n",
      " 10000 0.970 0.949 0.942\n",
      " 11000 0.967 0.947 0.945\n",
      " 12000 0.966 0.950 0.951\n",
      " 13000 0.974 0.953 0.954\n",
      " 14000 0.977 0.951 0.946\n",
      " 15000 0.970 0.952 0.951\n",
      " 16000 0.974 0.945 0.946\n",
      " 17000 0.966 0.964 0.955\n",
      " 18000 0.967 0.949 0.950\n",
      " 19000 0.981 0.957 0.949\n",
      " 20000 0.982 0.953 0.953\n",
      " 21000 0.976 0.954 0.952\n",
      " 22000 0.979 0.948 0.949\n",
      " 23000 0.979 0.954 0.954\n",
      " 24000 0.979 0.956 0.956\n",
      " 25000 0.983 0.953 0.951\n",
      " 26000 0.988 0.949 0.952\n",
      " 27000 0.978 0.948 0.946\n",
      " 28000 0.977 0.959 0.951\n",
      " 29000 0.981 0.952 0.953\n",
      "('Time taken', 540.7133657932281)\n"
     ]
    }
   ],
   "source": [
    "train_accs, val_accs,test_accs = [], [] ,[]\n",
    "start=time.time()\n",
    "\n",
    "for i in range(NUM_OPT_STEPS):\n",
    "    train(batch_size)    \n",
    "    if i % 1000 == 0:\n",
    "        train_accs.append(approx_accuracy(train_images,train_labels,1000))\n",
    "        val_accs.append(approx_accuracy(validation_images,validation_labels))\n",
    "        test_accs.append(approx_accuracy(test_images,test_labels))\n",
    "    if i%1000 == 0:\n",
    "        print(\"%6d %5.3f %5.3f %5.3f\" % ( i, train_accs[-1], val_accs[-1],test_accs[-1]))\n",
    "\n",
    "end=time.time()\n",
    "print('Time taken', end-start)"
   ]
  },
  {
   "cell_type": "code",
   "execution_count": 186,
   "metadata": {},
   "outputs": [
    {
     "name": "stdout",
     "output_type": "stream",
     "text": [
      " 29999  0.98  0.95\n"
     ]
    },
    {
     "data": {
      "text/plain": [
       "<matplotlib.legend.Legend at 0x7f0e077987d0>"
      ]
     },
     "execution_count": 186,
     "metadata": {},
     "output_type": "execute_result"
    },
    {
     "data": {
      "image/png": "[encoded data removed]",
      "text/plain": [
       "<matplotlib.figure.Figure at 0x7f0e056f2c10>"
      ]
     },
     "metadata": {},
     "output_type": "display_data"
    }
   ],
   "source": [
    "print(\"%6d %5.2f %5.2f\" % ( i, train_accs[-1], val_accs[-1]))\n",
    "plt.figure(figsize=(30, 10))\n",
    "plt.xlabel('iterations')\n",
    "plt.ylabel('accuracy')\n",
    "training_accuracy_line,=plt.plot(train_accs,label='Training Accuracy- vibhu ')\n",
    "validation_accuracy_line,=plt.plot(val_accs,label='Validation Accuracy- vibhu')\n",
    "plt.legend(handles=[training_accuracy_line, validation_accuracy_line])"
   ]
  },
  {
   "cell_type": "code",
   "execution_count": 187,
   "metadata": {},
   "outputs": [],
   "source": [
    "\n",
    "images_test_kaggle=np.load('data/part_2_test_images.npy')\n",
    "shape_images_flat=(images_test_kaggle.shape[0],images_test_kaggle.shape[1]*images_test_kaggle.shape[2])\n",
    "\n",
    "images_normal=np.ndarray(shape=shape_images_flat)\n",
    "\n",
    "# normalizing and flattening images\n",
    "for index in range(len(images_test_kaggle)):\n",
    "    images_normal[index]=((images[index]-images[index].mean())/images[index].std()).flat\n"
   ]
  },
  {
   "cell_type": "code",
   "execution_count": 21,
   "metadata": {
    "collapsed": true
   },
   "outputs": [],
   "source": [
    "x = autograd.Variable(torch.from_numpy(images_normal.astype(np.float32)))\n"
   ]
  },
  {
   "cell_type": "code",
   "execution_count": 22,
   "metadata": {
    "collapsed": true
   },
   "outputs": [],
   "source": [
    "_,y_hat =torch.max(model(x),1)"
   ]
  },
  {
   "cell_type": "code",
   "execution_count": 23,
   "metadata": {
    "collapsed": true
   },
   "outputs": [],
   "source": [
    "pred_numpy=y_hat.data.numpy()\n",
    "np.savetxt(\"data/kaggle_pred_2.csv\", np.dstack((np.arange(0, pred_numpy.size),pred_numpy))[0],\"%d,%d\",header=\"id,label\")"
   ]
  },
  {
   "cell_type": "code",
   "execution_count": 25,
   "metadata": {},
   "outputs": [
    {
     "name": "stdout",
     "output_type": "stream",
     "text": [
      "  2037  0.98  0.93\n"
     ]
    }
   ],
   "source": [
    "train_accs.append(approx_accuracy(train_images,train_labels,1000))\n",
    "print(\"%6d %5.2f %5.2f\" % ( i, train_accs[-1], val_accs[-1]))\n"
   ]
  },
  {
   "cell_type": "code",
   "execution_count": 191,
   "metadata": {},
   "outputs": [],
   "source": [
    "images_test_kaggle=np.load('data/part_2_test_images.npy')\n",
    "shape_images_flat=(images_test_kaggle.shape[0],images_test_kaggle.shape[1]*images_test_kaggle.shape[2])\n",
    "images_normal=np.ndarray(shape=shape_images_flat)\n",
    "\n",
    "# normalizing and flattening images\n",
    "for index in range(len(images_test_kaggle)):\n",
    "    images_normal[index]=((images_test_kaggle[index]-images_test_kaggle[index].mean())/images_test_kaggle[index].std()).flat\n",
    "x = autograd.Variable(torch.from_numpy(images_normal.astype(np.float32))).cuda()\n",
    "_,y_hat =torch.max(model(x),1)\n",
    "pred_numpy=y_hat.cpu().data.numpy()\n",
    "np.savetxt(\"data/kaggle_pred_2.csv\", np.dstack((np.arange(0, pred_numpy.size),pred_numpy))[0],\"%d,%d\",header=\"id,label\")"
   ]
  },
  {
   "cell_type": "code",
   "execution_count": null,
   "metadata": {
    "collapsed": true
   },
   "outputs": [],
   "source": []
  }
 ],
 "metadata": {
  "kernelspec": {
   "display_name": "Python 2",
   "language": "python",
   "name": "python2"
  },
  "language_info": {
   "codemirror_mode": {
    "name": "ipython",
    "version": 2
   },
   "file_extension": ".py",
   "mimetype": "text/x-python",
   "name": "python",
   "nbconvert_exporter": "python",
   "pygments_lexer": "ipython2",
   "version": "2.7.12"
  }
 },
 "nbformat": 4,
 "nbformat_minor": 2
}
