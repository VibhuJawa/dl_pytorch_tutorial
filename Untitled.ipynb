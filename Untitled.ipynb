{
 "cells": [
  {
   "cell_type": "code",
   "execution_count": null,
   "metadata": {
    "collapsed": true
   },
   "outputs": [],
   "source": [
    "X=train_images\n",
    "Y=train_labels\n",
    "\n",
    "W_tensor=torch.torch.DoubleTensor(X.shape[1]).zero_()\n",
    "W_tensor=Variable(W_tensor,requires_grad=True)\n",
    "number_of_images=100\n",
    "t=0\n",
    "m = np.zeros(X.shape[1], dtype=np.float)\n",
    "v = np.zeros(X.shape[1], dtype=np.float)\n",
    "\n",
    "M_tensor=torch.torch.DoubleTensor(X.shape[1]).zero_()\n",
    "V_tensor=torch.torch.DoubleTensor(X.shape[1]).zero_()\n",
    "\n",
    "M_tensor=Variable(M_tensor,requires_grad=False)\n",
    "V_tensor=Variable(V_tensor,requires_grad=False)\n",
    "\n",
    "for epoch in range(0,I):   \n",
    "    for i in range(0,number_of_images):\n",
    "       \n",
    "        x_tensor=Variable(torch.from_numpy(X[i]),requires_grad=False)\n",
    "        w_x=torch.dot(x_tensor,W_tensor)\n",
    "        w_x=torch.sigmoid(w_x)\n",
    "        esp1, esp2 = 1e-5,1e5\n",
    "        J=(float(Y[i]))*torch.log(w_x.clamp(esp1,esp2))+(1-float(Y[i]))*torch.log((1-w_x).clamp(esp1,esp2))\n",
    "        J.backward()\n",
    "        W_tensor.data += learning_rate * W_tensor.grad.data\n",
    "        \n",
    "        if(i%100==0):\n",
    "            compute_accuracy_graph(W_tensor.data.numpy())\n",
    "            \n",
    "        m_d=b_1*m+(1-b_1)*W_tensor.grad.data\n",
    "        m=m/(1-b_1**t)\n",
    "        \n",
    "        m_d=b_1*m+(1-b_1)*W_tensor.grad.data\n",
    "        m=m/(1-b_1**t)\n",
    "\n",
    "        v_d= b_2*v + (1-b_2)* np.square(W_tensor.grad.data)\n",
    "        v=v/(1-b_2**t)\n",
    "        w_c=m/(np.sqrt(v)+e)\n",
    "        learning_rate=n*w_c\n",
    "        m=m_d\n",
    "        v=v_d\n",
    "\n",
    "        # Manually zero the gradients after updating weights\n",
    "        W_tensor.grad.data.zero_()\n",
    "    \n",
    "weights_now=W_tensor.data.numpy()\n"
   ]
  }
 ],
 "metadata": {
  "kernelspec": {
   "display_name": "Python 3",
   "language": "python",
   "name": "python3"
  },
  "language_info": {
   "codemirror_mode": {
    "name": "ipython",
    "version": 3
   },
   "file_extension": ".py",
   "mimetype": "text/x-python",
   "name": "python",
   "nbconvert_exporter": "python",
   "pygments_lexer": "ipython3",
   "version": "3.6.2"
  }
 },
 "nbformat": 4,
 "nbformat_minor": 2
}
