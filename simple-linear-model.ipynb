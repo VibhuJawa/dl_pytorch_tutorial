{
 "cells": [
  {
   "cell_type": "markdown",
   "metadata": {},
   "source": [
    "## Distribution of traing data is:\n",
    "(Labels:[0, 1, 2, 3, 4] : count: [10000, 10000, 10000, 10000, 10000] )\n",
    "\n",
    " \n",
    "## Random classifier accuracy\n",
    "\n",
    "As all the classes are equally distributed in our data, the prediciton probabilty is euqlivalent to prediction accuracy.\n",
    "\n",
    "Random  classification gives us:\n",
    "\n",
    "1. Correct prediction Probabilty of a class  =0.2 \n",
    "\n",
    "Probabilty of each class =0.2\n",
    "\n",
    "Overall correct clasification probabilty = 5 x (0.2 x 0.2 ) = 0.2\n",
    "\n",
    "Overall accuracy = 0.2\n",
    "\n",
    "## Majority Classifier accuracy\n",
    "\n",
    "As all the classes are equally distributed, we can take any class to be our majority class.\n",
    "\n",
    "Let us choose apple to be our majority class.\n",
    "We thus predict each class to be apple, we get all the apple classes correct and everything else is incorrect.\n",
    "\n",
    "\n",
    "Thus, majority classifer accuracy=0.2\n"
   ]
  },
  {
   "cell_type": "markdown",
   "metadata": {},
   "source": [
    "# Code Begins Here:"
   ]
  },
  {
   "cell_type": "code",
   "execution_count": 291,
   "metadata": {
    "collapsed": true
   },
   "outputs": [],
   "source": [
    "%matplotlib inline\n",
    "import matplotlib.pyplot as plt\n",
    "import numpy as np\n",
    "import random \n",
    "import torch\n",
    "from torch import autograd\n",
    "import torch.nn.functional as F"
   ]
  },
  {
   "cell_type": "markdown",
   "metadata": {},
   "source": [
    "Importing and Preparing Data"
   ]
  },
  {
   "cell_type": "code",
   "execution_count": 292,
   "metadata": {},
   "outputs": [
    {
     "name": "stdout",
     "output_type": "stream",
     "text": [
      "(array([0, 1, 2, 3, 4], dtype=uint8), array([10000, 10000, 10000, 10000, 10000]))\n"
     ]
    }
   ],
   "source": [
    "images=np.load('data/images.npy')\n",
    "labels=np.load('data/labels.npy')\n",
    "label_ids,count=np.unique(labels,return_counts=True)\n",
    "print(label_ids,count)\n"
   ]
  },
  {
   "cell_type": "code",
   "execution_count": 302,
   "metadata": {
    "collapsed": true
   },
   "outputs": [],
   "source": [
    "shape_images_flat=(images.shape[0],images.shape[1]*images.shape[2])\n",
    "images_normal=np.ndarray(shape=shape_images_flat)\n",
    "\n",
    "# normalizing images\n",
    "for index in range(len(images)):\n",
    "    images_normal[index]=((images[index]-images[index].mean())/images[index].std()).flat\n",
    "\n",
    "#  braking data set into train,validation and test sets\n",
    "train_images=images_normal[0:40000]\n",
    "train_labels=labels[0:40000]\n",
    "\n",
    "validation_images=images_normal[40000:45000]\n",
    "validation_labels=labels[40000:45000]\n",
    "\n",
    "test_images=images_normal[45000:50000]\n",
    "test_labels=labels[45000:50000]\n",
    "\n"
   ]
  },
  {
   "cell_type": "code",
   "execution_count": 303,
   "metadata": {
    "collapsed": true
   },
   "outputs": [],
   "source": [
    "HEIGHT,WIDTH=26,26\n",
    "NUM_CLASSES=5\n",
    "batch_size=1\n",
    "NUM_OPT_STEPS=5000\n",
    "# NUM_OPT_STEPS=train_labels.shape[0]/batch_size"
   ]
  },
  {
   "cell_type": "code",
   "execution_count": 304,
   "metadata": {
    "collapsed": true
   },
   "outputs": [],
   "source": [
    "class LinearModel(torch.nn.Module):\n",
    "    def __init__(self):\n",
    "        super(LinearModel,self).__init__()\n",
    "        self.linear = torch.nn.Linear(HEIGHT * WIDTH, NUM_CLASSES)\n",
    "        \n",
    "    def forward(self, x):\n",
    "        x = self.linear(x)\n",
    "        return x"
   ]
  },
  {
   "cell_type": "code",
   "execution_count": 305,
   "metadata": {},
   "outputs": [
    {
     "name": "stdout",
     "output_type": "stream",
     "text": [
      "torch.Size([5, 676])\n",
      "torch.Size([5])\n"
     ]
    }
   ],
   "source": [
    "model=LinearModel()\n",
    "params = list(model.parameters())\n",
    "print(params[0].size())\n",
    "print(params[1].size())"
   ]
  },
  {
   "cell_type": "markdown",
   "metadata": {},
   "source": [
    "## Number of weights and Biases\n",
    "Number of weights= 5*676=3380\n",
    "\n",
    "Number of Biases= 5 \n"
   ]
  },
  {
   "cell_type": "markdown",
   "metadata": {},
   "source": [
    "Optmizers that we used in the previous homeworks are:\n",
    "\n",
    "1. optim.Adam\n",
    "2. optim.SGD\n",
    "\n",
    "The most important arguments are: \n",
    "1. Parameters - params (iterable) – iterable of parameters to optimize\n",
    "2. Learning Rate- lr (float) – learning rate "
   ]
  },
  {
   "cell_type": "code",
   "execution_count": 306,
   "metadata": {
    "collapsed": true
   },
   "outputs": [],
   "source": [
    "optimizer=torch.optim.Adam(model.parameters(),lr=1e-3)\n"
   ]
  },
  {
   "cell_type": "code",
   "execution_count": 307,
   "metadata": {
    "collapsed": true
   },
   "outputs": [],
   "source": [
    "def train(batch_size):\n",
    "    # model.train() puts our model in train mode, which can require different\n",
    "    # behavior than eval mode (for example in the case of dropout).\n",
    "    model.train()\n",
    "    \n",
    "    # i is is a 1-D array with shape [batch_size]\n",
    "    i = np.random.choice(train_images.shape[0], size=batch_size, replace=False)\n",
    "    x = autograd.Variable(torch.from_numpy(train_images[i].astype(np.float32)))\n",
    "    y = autograd.Variable(torch.from_numpy(train_labels[i].astype(np.int)))\n",
    "    \n",
    "    optimizer.zero_grad()\n",
    "    y_hat_ = model(x)\n",
    "    loss = F.cross_entropy(y_hat_, y)\n",
    "    loss.backward()\n",
    "    \n",
    "    optimizer.step()\n",
    "    return loss.data[0]\n"
   ]
  },
  {
   "cell_type": "code",
   "execution_count": 308,
   "metadata": {
    "collapsed": true
   },
   "outputs": [],
   "source": [
    "def accuracy(y, y_hat):\n",
    "    a=(y==y_hat)\n",
    "    return a.astype(np.float).mean()"
   ]
  },
  {
   "cell_type": "code",
   "execution_count": 309,
   "metadata": {
    "collapsed": true
   },
   "outputs": [],
   "source": [
    "def approx_accuracy(curr_images,curr_labels,length=-1):\n",
    "    if length==-1:\n",
    "        length=len(curr_images)\n",
    "        \n",
    "    shuffle_list=np.random.choice(len(curr_images), length)\n",
    "    shuffled_images=curr_images[shuffle_list]\n",
    "    shuffled_labels=curr_labels[shuffle_list]\n",
    "    \n",
    "    x = autograd.Variable(torch.from_numpy(shuffled_images.astype(np.float32)))\n",
    "    y = autograd.Variable(torch.from_numpy(shuffled_labels.astype(np.int)))\n",
    "    _,y_hat =torch.max(model(x),1)\n",
    "    # print(y_hat.size())\n",
    "    return accuracy(y.data.numpy(), y_hat.data.numpy())\n",
    "         "
   ]
  },
  {
   "cell_type": "code",
   "execution_count": 310,
   "metadata": {},
   "outputs": [
    {
     "name": "stdout",
     "output_type": "stream",
     "text": [
      "     0  0.19  0.18\n",
      "   100  0.54  0.53\n",
      "   200  0.63  0.62\n",
      "   300  0.68  0.67\n",
      "   400  0.68  0.66\n",
      "   500  0.67  0.68\n",
      "   600  0.69  0.69\n",
      "   700  0.69  0.69\n",
      "   800  0.69  0.69\n",
      "   900  0.71  0.70\n",
      "  1000  0.68  0.69\n",
      "  1100  0.71  0.70\n",
      "  1200  0.72  0.72\n",
      "  1300  0.68  0.70\n",
      "  1400  0.69  0.70\n",
      "  1500  0.68  0.68\n",
      "  1600  0.70  0.69\n",
      "  1700  0.65  0.69\n",
      "  1800  0.69  0.71\n",
      "  1900  0.71  0.71\n",
      "  2000  0.70  0.70\n",
      "  2100  0.71  0.68\n",
      "  2200  0.70  0.68\n",
      "  2300  0.69  0.69\n",
      "  2400  0.70  0.71\n",
      "  2500  0.68  0.69\n",
      "  2600  0.70  0.70\n",
      "  2700  0.72  0.72\n",
      "  2800  0.72  0.71\n",
      "  2900  0.70  0.68\n",
      "  3000  0.73  0.70\n",
      "  3100  0.72  0.70\n",
      "  3200  0.69  0.69\n",
      "  3300  0.71  0.70\n",
      "  3400  0.73  0.71\n",
      "  3500  0.71  0.72\n",
      "  3600  0.71  0.73\n",
      "  3700  0.69  0.69\n",
      "  3800  0.73  0.71\n",
      "  3900  0.68  0.68\n",
      "  4000  0.70  0.71\n",
      "  4100  0.70  0.70\n",
      "  4200  0.69  0.68\n",
      "  4300  0.70  0.71\n",
      "  4400  0.70  0.72\n",
      "  4500  0.67  0.68\n",
      "  4600  0.68  0.67\n",
      "  4700  0.71  0.71\n",
      "  4800  0.68  0.71\n",
      "  4900  0.71  0.69\n"
     ]
    }
   ],
   "source": [
    "train_accs, val_accs = [], [] \n",
    "for i in range(NUM_OPT_STEPS):\n",
    "    train(batch_size)    \n",
    "    if i % 100 == 0:\n",
    "        train_accs.append(approx_accuracy(train_images,train_labels,1000))\n",
    "        val_accs.append(approx_accuracy(validation_images,validation_labels))\n",
    "        print(\"%6d %5.2f %5.2f\" % (epoch*NUM_OPT_STEPS +i, train_accs[-1], val_accs[-1]))\n"
   ]
  },
  {
   "cell_type": "markdown",
   "metadata": {},
   "source": [
    "# Train and validation, obtained on first attempt\n",
    "The train and validation accuracies obtained were : 0.22  0.21\n",
    "The learning rate was too small so convergence was really less, confirmed this by running this with multiple epochs, it took about 100 times more iterations to converge"
   ]
  },
  {
   "cell_type": "code",
   "execution_count": 311,
   "metadata": {},
   "outputs": [
    {
     "data": {
      "text/plain": [
       "<matplotlib.legend.Legend at 0x123e8bb90>"
      ]
     },
     "execution_count": 311,
     "metadata": {},
     "output_type": "execute_result"
    },
    {
     "data": {
      "image/png": "[encoded data removed]",
      "text/plain": [
       "<matplotlib.figure.Figure at 0x124de0310>"
      ]
     },
     "metadata": {},
     "output_type": "display_data"
    }
   ],
   "source": [
    "plt.figure(figsize=(30, 10))\n",
    "plt.xlabel('iterations')\n",
    "plt.ylabel('accuracy')\n",
    "training_accuracy_line,=plt.plot(train_accs,label='Training Accuracy')\n",
    "validation_accuracy_line,=plt.plot(val_accs,label='Validation Accuracy')\n",
    "plt.legend(handles=[training_accuracy_line, validation_accuracy_line])"
   ]
  },
  {
   "cell_type": "code",
   "execution_count": null,
   "metadata": {
    "collapsed": true
   },
   "outputs": [],
   "source": [
    "# Highest train and validation accuracies obtained. \n",
    "The train and validation accuracies obtained were : 0.71 0.69\n",
    "\n",
    "Optimizer Used : Adams \n",
    "Learning Rate: 1e-3\n",
    "\n",
    "Best Validation: 0.69"
   ]
  },
  {
   "cell_type": "code",
   "execution_count": null,
   "metadata": {
    "collapsed": true
   },
   "outputs": [],
   "source": []
  }
 ],
 "metadata": {
  "kernelspec": {
   "display_name": "Python 3",
   "language": "python",
   "name": "python3"
  },
  "language_info": {
   "codemirror_mode": {
    "name": "ipython",
    "version": 2
   },
   "file_extension": ".py",
   "mimetype": "text/x-python",
   "name": "python",
   "nbconvert_exporter": "python",
   "pygments_lexer": "ipython2",
   "version": "2.7.14"
  }
 },
 "nbformat": 4,
 "nbformat_minor": 2
}
