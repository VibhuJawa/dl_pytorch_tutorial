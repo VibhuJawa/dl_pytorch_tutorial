{
 "cells": [
  {
   "cell_type": "code",
   "execution_count": 1,
   "metadata": {
    "collapsed": true
   },
   "outputs": [],
   "source": [
    "%matplotlib inline\n",
    "import matplotlib.pyplot as plt\n",
    "import numpy as np\n",
    "import random \n",
    "import torch\n",
    "from torch.autograd import Variable\n"
   ]
  },
  {
   "cell_type": "code",
   "execution_count": 2,
   "metadata": {
    "collapsed": true
   },
   "outputs": [],
   "source": [
    "images=np.load('data/images.npy')\n",
    "labels=np.load('data/labels.npy')\n",
    "labels=labels.astype(int)\n",
    "labels[labels!=0]=-1\n",
    "labels[labels==0]=1\n",
    "labels[labels==-1]=0\n"
   ]
  },
  {
   "cell_type": "markdown",
   "metadata": {},
   "source": [
    "### Number of apples in the test set = 10000"
   ]
  },
  {
   "cell_type": "code",
   "execution_count": 3,
   "metadata": {},
   "outputs": [
    {
     "name": "stdout",
     "output_type": "stream",
     "text": [
      "10000\n"
     ]
    },
    {
     "data": {
      "text/plain": [
       "<matplotlib.image.AxesImage at 0x114c50898>"
      ]
     },
     "execution_count": 3,
     "metadata": {},
     "output_type": "execute_result"
    },
    {
     "data": {
      "image/png": "[encoded data removed]",
      "text/plain": [
       "<matplotlib.figure.Figure at 0x10aac7cc0>"
      ]
     },
     "metadata": {},
     "output_type": "display_data"
    }
   ],
   "source": [
    "apples=images[labels==1]\n",
    "print(len(apples))\n",
    "plt.imshow(apples[0])\n"
   ]
  },
  {
   "cell_type": "markdown",
   "metadata": {},
   "source": [
    "## Flattening the image"
   ]
  },
  {
   "cell_type": "code",
   "execution_count": 4,
   "metadata": {
    "collapsed": true
   },
   "outputs": [],
   "source": [
    "shape_images_flat=(images.shape[0],images.shape[1]*images.shape[2])\n",
    "images_flat=np.ndarray(shape=shape_images_flat)\n",
    "for index in range(len(images)):\n",
    "    images_flat[index]=images[index].flat\n",
    "images=images_flat\n"
   ]
  },
  {
   "cell_type": "code",
   "execution_count": 5,
   "metadata": {
    "collapsed": true
   },
   "outputs": [],
   "source": [
    "images_len=len(images)\n",
    "shuffler_list=list(range(0, images_len))\n",
    "# print(list)\n",
    "random.shuffle(shuffler_list)"
   ]
  },
  {
   "cell_type": "code",
   "execution_count": 6,
   "metadata": {
    "collapsed": true
   },
   "outputs": [],
   "source": [
    "shuffled_images=images[shuffler_list]\n",
    "shuffled_labels=labels[shuffler_list]\n"
   ]
  },
  {
   "cell_type": "code",
   "execution_count": 7,
   "metadata": {
    "collapsed": true
   },
   "outputs": [],
   "source": [
    "train_images=shuffled_images[0:40000]\n",
    "train_labels=shuffled_labels[0:40000]\n",
    "\n",
    "validation_images=shuffled_images[40000:45000]\n",
    "validation_labels=shuffled_labels[40000:45000]\n",
    "\n",
    "test_images=shuffled_images[45000:50000]\n",
    "test_labels=shuffled_labels[45000:50000]"
   ]
  },
  {
   "cell_type": "markdown",
   "metadata": {},
   "source": [
    "# Random coin flipping accuracy\n",
    "Random coin flipping gives us:\n",
    "1. Correct prediction Probabilty=0.5 if apple\n",
    "2. Correct prediction Probabilty=0.5 if not apple\n",
    "\n",
    "Probabilty of apple=0.2\n",
    "\n",
    "Probabilty of not apple=0.8\n",
    "\n",
    "Overall correct clasification probabilty =0.5 x 0.2 + 0.5 x 0.8\n",
    "\n",
    "Overall accuracy thus is=0.5\n",
    "\n",
    "# Majority Classifier accuracy\n",
    "We always predict not apple in this case\n",
    "\n",
    "Probabilty of not apple=0.8\n",
    "\n",
    "Thus, majority classifer accuracy=0.8\n"
   ]
  },
  {
   "cell_type": "markdown",
   "metadata": {},
   "source": [
    "# Logistic Code"
   ]
  },
  {
   "cell_type": "code",
   "execution_count": 8,
   "metadata": {
    "collapsed": true
   },
   "outputs": [],
   "source": [
    "def accuracy(y, y_hat):\n",
    "    \"\"\"Compute accuracy.\n",
    "    Args:\n",
    "    y: A 1-D int NumPy array.\n",
    "    y_hat: A 1-D int NumPy array.\n",
    "    Returns:\n",
    "    A float, the fraction of time y[i] == y_hat[i].\n",
    "    \"\"\"\n",
    "   \n",
    "    a=(y==y_hat)\n",
    "    return a.astype(np.float).mean()"
   ]
  },
  {
   "cell_type": "code",
   "execution_count": 9,
   "metadata": {
    "collapsed": true
   },
   "outputs": [],
   "source": [
    "training_accuracy_list=[]\n",
    "validation_accuracy_list=[]\n",
    "def compute_accuracy_graph(W):\n",
    "    train_images_len=len(train_images)\n",
    "    train_shuffler_list=list(range(0, train_images_len))\n",
    "    random.shuffle(train_shuffler_list)    \n",
    "    shuffled_train_images=train_images[train_shuffler_list]\n",
    "    shuffled_train_labels=train_labels[train_shuffler_list]\n",
    "    \n",
    "    shuffled_train_images_used=shuffled_train_images[0:1000]\n",
    "    shuffled_train_labels_used=shuffled_train_labels[0:1000]\n",
    "    \n",
    "    d_train=shuffled_train_images_used.dot(W)\n",
    "    d_train[d_train>0]=1\n",
    "    d_train[d_train<=0]=0\n",
    "    \n",
    "    \n",
    "    ac_train=accuracy(shuffled_train_labels_used,d_train)\n",
    "    training_accuracy_list.append(ac_train)\n",
    "    \n",
    "\n",
    "    validation_images_len=len(validation_images)\n",
    "    validation_shuffler_list=list(range(0, validation_images_len))\n",
    "    random.shuffle(validation_shuffler_list)    \n",
    "    shuffled_validation_images=validation_images[validation_shuffler_list]\n",
    "    shuffled_validation_labels=validation_labels[validation_shuffler_list]  \n",
    "    \n",
    "    shuffled_validation_images_used=shuffled_validation_images[0:1000]\n",
    "    shuffled_validation_labels_used=shuffled_validation_labels[0:1000]\n",
    "    \n",
    "    d_validation=shuffled_validation_images_used.dot(W)\n",
    "    d_validation[d_validation>0]=1\n",
    "    d_validation[d_validation<=0]=0\n",
    "    \n",
    "    ac_validation=accuracy(shuffled_validation_labels_used,d_validation)\n",
    "    validation_accuracy_list.append(ac_validation)\n",
    "    \n",
    "    "
   ]
  },
  {
   "cell_type": "code",
   "execution_count": 10,
   "metadata": {
    "collapsed": true
   },
   "outputs": [],
   "source": [
    "y=train_labels"
   ]
  },
  {
   "cell_type": "code",
   "execution_count": 18,
   "metadata": {
    "collapsed": true
   },
   "outputs": [],
   "source": [
    "I=2\n",
    "learning_rate=0.01"
   ]
  },
  {
   "cell_type": "code",
   "execution_count": 19,
   "metadata": {
    "scrolled": false
   },
   "outputs": [
    {
     "name": "stderr",
     "output_type": "stream",
     "text": [
      "/Users/jawa/anaconda/envs/tensor_env/lib/python3.6/site-packages/ipykernel_launcher.py:14: RuntimeWarning: invalid value encountered in greater\n",
      "  \n",
      "/Users/jawa/anaconda/envs/tensor_env/lib/python3.6/site-packages/ipykernel_launcher.py:15: RuntimeWarning: invalid value encountered in less_equal\n",
      "  from ipykernel import kernelapp as app\n",
      "/Users/jawa/anaconda/envs/tensor_env/lib/python3.6/site-packages/ipykernel_launcher.py:32: RuntimeWarning: invalid value encountered in greater\n",
      "/Users/jawa/anaconda/envs/tensor_env/lib/python3.6/site-packages/ipykernel_launcher.py:33: RuntimeWarning: invalid value encountered in less_equal\n"
     ]
    }
   ],
   "source": [
    "X=train_images\n",
    "Y=train_labels\n",
    "\n",
    "W_tensor=torch.torch.DoubleTensor(X.shape[1]).zero_()\n",
    "W_tensor=Variable(W_tensor,requires_grad=True)\n",
    "number_of_images=X.shape[0]\n",
    "for epoch in range(0,I):\n",
    "    for i in range(0,number_of_images):\n",
    "        x_tensor=Variable(torch.from_numpy(X[i]),requires_grad=False)\n",
    "        w_x=torch.dot(x_tensor,W_tensor)\n",
    "        y_hat=torch.sign(w_x)+1\n",
    "        y_hat=torch.sign(y_hat)\n",
    "        y_i=torch.torch.DoubleTensor(1).zero_()\n",
    "        y_i=float(y[i])\n",
    "        J=y_i*torch.log(torch.sigmoid(-w_x))+(1-y_i)*torch.log(torch.sigmoid(w_x))\n",
    "        J.backward()\n",
    "        W_tensor.data -= learning_rate * W_tensor.grad.data\n",
    "        \n",
    "        if(i%100==0):\n",
    "            compute_accuracy_graph(W_tensor.data.numpy())        \n",
    "\n",
    "        # Manually zero the gradients after updating weights\n",
    "        W_tensor.grad.data.zero_()\n",
    "    \n",
    "weights_now=W_tensor.data.numpy()\n"
   ]
  },
  {
   "cell_type": "code",
   "execution_count": 23,
   "metadata": {},
   "outputs": [
    {
     "name": "stdout",
     "output_type": "stream",
     "text": [
      "0.0\n"
     ]
    },
    {
     "name": "stderr",
     "output_type": "stream",
     "text": [
      "/Users/jawa/anaconda/envs/tensor_env/lib/python3.6/site-packages/ipykernel_launcher.py:14: RuntimeWarning: invalid value encountered in greater\n",
      "  \n",
      "/Users/jawa/anaconda/envs/tensor_env/lib/python3.6/site-packages/ipykernel_launcher.py:15: RuntimeWarning: invalid value encountered in less_equal\n",
      "  from ipykernel import kernelapp as app\n",
      "/Users/jawa/anaconda/envs/tensor_env/lib/python3.6/site-packages/ipykernel_launcher.py:32: RuntimeWarning: invalid value encountered in greater\n",
      "/Users/jawa/anaconda/envs/tensor_env/lib/python3.6/site-packages/ipykernel_launcher.py:33: RuntimeWarning: invalid value encountered in less_equal\n",
      "/Users/jawa/anaconda/envs/tensor_env/lib/python3.6/site-packages/ipykernel_launcher.py:5: RuntimeWarning: invalid value encountered in greater\n",
      "  \"\"\"\n",
      "/Users/jawa/anaconda/envs/tensor_env/lib/python3.6/site-packages/ipykernel_launcher.py:6: RuntimeWarning: invalid value encountered in less_equal\n",
      "  \n"
     ]
    }
   ],
   "source": [
    "compute_accuracy_graph(weights_now)\n",
    "X=test_images\n",
    "y=test_labels\n",
    "d=X.dot(weights_now)\n",
    "d[d>0]=1\n",
    "d[d<=0]=0\n",
    "ac=accuracy(y,d)\n",
    "print(ac)\n"
   ]
  },
  {
   "cell_type": "code",
   "execution_count": 22,
   "metadata": {},
   "outputs": [
    {
     "name": "stdout",
     "output_type": "stream",
     "text": [
      "[0 0 0 ..., 0 0 1]\n"
     ]
    },
    {
     "data": {
      "text/plain": [
       "<matplotlib.legend.Legend at 0x116e41b00>"
      ]
     },
     "execution_count": 22,
     "metadata": {},
     "output_type": "execute_result"
    },
    {
     "data": {
      "image/png": "[encoded data removed]",
      "text/plain": [
       "<matplotlib.figure.Figure at 0x115541828>"
      ]
     },
     "metadata": {},
     "output_type": "display_data"
    }
   ],
   "source": [
    "print(y)\n",
    "plt.figure(figsize=(30, 10))\n",
    "plt.xlabel('iterations')\n",
    "plt.ylabel('accuracy')\n",
    "training_accuracy_line,=plt.plot(training_accuracy_list,label='Training Accuracy')\n",
    "validation_accuracy_line,=plt.plot(validation_accuracy_list,label='Validation Accuracy')\n",
    "plt.legend(handles=[training_accuracy_line, validation_accuracy_line])\n",
    "\n"
   ]
  },
  {
   "cell_type": "code",
   "execution_count": null,
   "metadata": {
    "collapsed": true
   },
   "outputs": [],
   "source": []
  }
 ],
 "metadata": {
  "kernelspec": {
   "display_name": "Python 3",
   "language": "python",
   "name": "python3"
  },
  "language_info": {
   "codemirror_mode": {
    "name": "ipython",
    "version": 3
   },
   "file_extension": ".py",
   "mimetype": "text/x-python",
   "name": "python",
   "nbconvert_exporter": "python",
   "pygments_lexer": "ipython3",
   "version": "3.6.2"
  }
 },
 "nbformat": 4,
 "nbformat_minor": 2
}
